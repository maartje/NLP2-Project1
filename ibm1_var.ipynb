{
 "cells": [
  {
   "cell_type": "code",
   "execution_count": 2,
   "metadata": {},
   "outputs": [],
   "source": [
    "import math\n",
    "import datasets\n",
    "import IBM1 as ibm1\n",
    "import debug_helpers\n",
    "import variational as var\n",
    "\n",
    "# pretty print variabeles on line\n",
    "from IPython.core.interactiveshell import InteractiveShell\n",
    "InteractiveShell.ast_node_interactivity = \"all\""
   ]
  },
  {
   "cell_type": "code",
   "execution_count": 15,
   "metadata": {},
   "outputs": [
    {
     "name": "stdout",
     "output_type": "stream",
     "text": [
      "(['<NULL>', 'das', 'Haus'], ['the', 'house'])\n",
      "iteration    ELBO     AER    time\n",
      "0 -60.778 0.75000 09:49\n",
      "1 -50.555 0.14286 09:49\n",
      "2 -48.662 0.14286 09:49\n",
      "3 -50.321 0.14286 09:49\n",
      "4 -51.566 0.14286 09:49\n",
      "5 -51.075 0.14286 09:49\n",
      "6 -49.891 0.14286 09:49\n",
      "7 -49.644 0.14286 09:49\n",
      "8 -49.720 0.14286 09:49\n",
      "9 -49.722 0.14286 09:49\n"
     ]
    }
   ],
   "source": [
    "# Run variational bayes for a toy example \n",
    "iterations = 10 \n",
    "alpha = 0.1 \n",
    "ELBO = True\n",
    "s_t_pairs, s_vocabulary, t_vocabulary = datasets.example_data_null_words()\n",
    "print(s_t_pairs[0])\n",
    "val_sentence_pairs = [(\n",
    "['<NULL>', 'Buch', 'klein', 'das', 'Haus'],\n",
    "['the', 'small', 'house', 'book']\n",
    ")]\n",
    "ref_alignments = [[\n",
    "{(3, 1), (2, 2), (4, 3), (1, 4)},\n",
    "{(3, 1), (2, 2), (4, 3), (1, 4)}\n",
    "]]\n",
    "(lprobs, ELBOS, AERS) = var.EM(s_t_pairs, s_vocabulary, t_vocabulary,iterations,val_sentence_pairs,\n",
    "                ref_alignments, alpha, ELBO,fn_debug = debug_helpers.print_ELBO)"
   ]
  },
  {
   "cell_type": "code",
   "execution_count": 5,
   "metadata": {},
   "outputs": [],
   "source": [
    "# Read in the data \n",
    "\n",
    "# s_t_pairs, s_vocabulary, t_vocabulary = datasets.training_data()\n",
    "# val_sentence_pairs = datasets.validation_data(s_vocabulary, t_vocabulary)\n",
    "# reference_alignments = datasets.validation_alignments()"
   ]
  },
  {
   "cell_type": "code",
   "execution_count": 3,
   "metadata": {},
   "outputs": [],
   "source": [
    "import persistence as per\n",
    "# Save the data \n",
    "# per.save(val_sentence_pairs, 'val_sent_pair')\n",
    "# per.save(reference_alignments, 'val_ref_align')\n",
    "# per.save(s_t_pairs, 's_t_pairs')\n",
    "# per.save(s_vocabulary, 's_voc')\n",
    "# per.save(t_vocabulary, 't_voc')\n",
    "# Load the data \n",
    "ref_alignments = per.load('val_ref_align')\n",
    "val_sentence_pairs = per.load('val_sent_pair')\n",
    "s_t_pairs = per.load('s_t_pairs')\n",
    "s_voc = per.load('s_voc')\n",
    "t_voc = per.load('t_voc')"
   ]
  },
  {
   "cell_type": "code",
   "execution_count": 6,
   "metadata": {},
   "outputs": [
    {
     "name": "stdout",
     "output_type": "stream",
     "text": [
      "iteration    ELBO     AER    time\n",
      "0 0.000 0.92918 09:06\n",
      "1 0.000 0.36269 09:08\n",
      "2 0.000 0.34509 09:11\n",
      "3 0.000 0.33843 09:13\n",
      "4 0.000 0.33238 09:16\n",
      "alpha 0 done\n",
      "iteration    ELBO     AER    time\n",
      "0 0.000 0.92918 09:19\n",
      "1 0.000 0.37405 09:21\n",
      "2 0.000 0.36988 09:24\n",
      "3 0.000 0.35728 09:27\n",
      "4 0.000 0.35345 09:29\n",
      "alpha 1 done\n",
      "iteration    ELBO     AER    time\n",
      "0 0.000 0.92918 09:32\n",
      "1 0.000 0.37784 09:34\n",
      "2 0.000 0.37274 09:37\n",
      "3 0.000 0.35920 09:39\n",
      "4 0.000 0.35441 09:42\n",
      "alpha 2 done\n"
     ]
    }
   ],
   "source": [
    "iterations = 5\n",
    "alpha = [0.1, 0.01, 0.001] \n",
    "ELBO = False \n",
    "(lprobs, ELBOS, AERS_0) = var.EM(s_t_pairs, s_voc, t_voc,iterations,val_sentence_pairs,\n",
    "                ref_alignments, alpha[0], ELBO,fn_debug = debug_helpers.print_ELBO)\n",
    "per.save(AERS_0, 'alpha_0')\n",
    "print('alpha 0 done')\n",
    "\n",
    "(lprobs, ELBOS, AERS_1) = var.EM(s_t_pairs, s_voc, t_voc,iterations,val_sentence_pairs,\n",
    "                ref_alignments, alpha[1], ELBO,fn_debug = debug_helpers.print_ELBO)\n",
    "per.save(AERS_1, 'alpha_1')\n",
    "print('alpha 1 done')\n",
    "\n",
    "(lprobs, ELBOS, AERS_2) = var.EM(s_t_pairs, s_voc, t_voc,iterations,val_sentence_pairs,\n",
    "                ref_alignments, alpha[2], ELBO,fn_debug = debug_helpers.print_ELBO)\n",
    "per.save(AERS_2, 'alpha_2')\n",
    "print('alpha 2 done')"
   ]
  },
  {
   "cell_type": "code",
   "execution_count": 14,
   "metadata": {},
   "outputs": [
    {
     "data": {
      "text/plain": [
       "[<matplotlib.lines.Line2D at 0x7fca93009198>]"
      ]
     },
     "execution_count": 14,
     "metadata": {},
     "output_type": "execute_result"
    },
    {
     "data": {
      "text/plain": [
       "[<matplotlib.lines.Line2D at 0x7fca9301a908>]"
      ]
     },
     "execution_count": 14,
     "metadata": {},
     "output_type": "execute_result"
    },
    {
     "data": {
      "text/plain": [
       "[<matplotlib.lines.Line2D at 0x7fca930087b8>]"
      ]
     },
     "execution_count": 14,
     "metadata": {},
     "output_type": "execute_result"
    },
    {
     "data": {
      "image/png": "[encoded data removed]",
      "text/plain": [
       "<matplotlib.figure.Figure at 0x7fca9301aac8>"
      ]
     },
     "metadata": {},
     "output_type": "display_data"
    }
   ],
   "source": [
    "import matplotlib.pyplot as plt\n",
    "from matplotlib.pyplot import figure, show\n",
    "from matplotlib.ticker import MaxNLocator\n",
    "alpha0 = per.load('alpha_0')\n",
    "alpha1 = per.load('alpha_1')\n",
    "alpha2 = per.load('alpha_2')\n",
    "plt.plot(alpha0[1:])\n",
    "plt.plot(alpha1[1:])\n",
    "plt.plot(alpha2[1:])"
   ]
  },
  {
   "cell_type": "code",
   "execution_count": 16,
   "metadata": {},
   "outputs": [
    {
     "ename": "TypeError",
     "evalue": "'float' object is not subscriptable",
     "output_type": "error",
     "traceback": [
      "\u001b[0;31m---------------------------------------------------------------------------\u001b[0m",
      "\u001b[0;31mTypeError\u001b[0m                                 Traceback (most recent call last)",
      "\u001b[0;32m<ipython-input-16-e86dfb79b0a0>\u001b[0m in \u001b[0;36m<module>\u001b[0;34m()\u001b[0m\n\u001b[1;32m      2\u001b[0m \u001b[0malpha\u001b[0m \u001b[0;34m=\u001b[0m \u001b[0;36m0.1\u001b[0m\u001b[0;34m\u001b[0m\u001b[0m\n\u001b[1;32m      3\u001b[0m (lprobs, ELBOS, AERS_010) = var.EM(s_t_pairs, s_voc, t_voc,iterations,val_sentence_pairs,\n\u001b[0;32m----> 4\u001b[0;31m                 ref_alignments, alpha[0], ELBO,fn_debug = debug_helpers.print_ELBO)\n\u001b[0m",
      "\u001b[0;31mTypeError\u001b[0m: 'float' object is not subscriptable"
     ]
    }
   ],
   "source": [
    "\n"
   ]
  }
 ],
 "metadata": {
  "kernelspec": {
   "display_name": "Python 3",
   "language": "python",
   "name": "python3"
  },
  "language_info": {
   "codemirror_mode": {
    "name": "ipython",
    "version": 3
   },
   "file_extension": ".py",
   "mimetype": "text/x-python",
   "name": "python",
   "nbconvert_exporter": "python",
   "pygments_lexer": "ipython3",
   "version": "3.6.4"
  }
 },
 "nbformat": 4,
 "nbformat_minor": 2
}
