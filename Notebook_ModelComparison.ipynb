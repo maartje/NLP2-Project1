{
 "cells": [
  {
   "cell_type": "code",
   "execution_count": 1,
   "metadata": {
    "collapsed": true
   },
   "outputs": [],
   "source": [
    "import matplotlib.pyplot as plt\n",
    "from matplotlib.pyplot import figure, show\n",
    "import plots"
   ]
  },
  {
   "cell_type": "code",
   "execution_count": 16,
   "metadata": {},
   "outputs": [
    {
     "data": {
      "image/png": "[encoded data removed]",
      "text/plain": [
       "<matplotlib.figure.Figure at 0x7f29aecf0240>"
      ]
     },
     "metadata": {},
     "output_type": "display_data"
    }
   ],
   "source": [
    "# Compare all selected models on the test data set using the official tool\n",
    "model_names = [\n",
    "    'IBM1-ME\\n(LL)', 'IBM1-ME\\n(AER)', \n",
    "    'IBM1-VB\\n(LL)', 'IBM1-VB\\n(AER)', \n",
    "    'IBM2-ME\\n(LL)', 'IBM2-ME\\n(AER)', \n",
    "]\n",
    "aer_scores = [\n",
    "    0.2926, 0.2964, \n",
    "    0, 0,\n",
    "    0.2025, 0.2050\n",
    "]\n",
    "\n",
    "plots.figure_AER_multiple_models(\n",
    "    model_names, aer_scores, 'IBM2-ME\\n(LL)', 'ModelComparison.png')"
   ]
  },
  {
   "cell_type": "code",
   "execution_count": 2,
   "metadata": {
    "collapsed": true
   },
   "outputs": [],
   "source": [
    "# AER_scores ={\n",
    "#     'IBM2_RR_1': 0.23062381852551983,\n",
    "#     'IBM2_RR_2': 0.23229461756373937,\n",
    "#     'IBM2_RR_3': 0.23796033994334276,\n",
    "#     'IBM2_uniform': 0.23135033050047216,\n",
    "#     'IBM2_staged': 0.23251417769376181\n",
    "# }\n",
    "\n",
    "# LL_scores = {\n",
    "#     'IBM2_RR_1':    -15716601.415835928,\n",
    "#     'IBM2_RR_2':    -15717405.185576126,\n",
    "#     'IBM2_RR_3':    -15721721.55419598,\n",
    "#     'IBM2_uniform': -15702995.067174641,\n",
    "#     'IBM2_staged':  -15718604.485789482\n",
    "# }"
   ]
  },
  {
   "cell_type": "code",
   "execution_count": 18,
   "metadata": {
    "scrolled": true
   },
   "outputs": [],
   "source": [
    "# model_names = ['Rand1', 'Rand2', 'Rand3', 'Uniform', 'Staged']\n",
    "# aer_scores = AER_scores.values()\n",
    "# plots.figure_AER_multiple_models(\n",
    "#     model_names, aer_scores, \n",
    "#     selected_model = 'Rand1',\n",
    "#     fname='IBM2_output/model_selection_AER.png'\n",
    "# )\n",
    "\n",
    "# plots.figure_LL_multiple_models(\n",
    "#     model_names, LL_scores.values(), \n",
    "#     selected_model = 'Uniform',\n",
    "#     fname='IBM2_output/model_selection_LL.png'\n",
    "# )"
   ]
  },
  {
   "cell_type": "code",
   "execution_count": null,
   "metadata": {
    "collapsed": true
   },
   "outputs": [],
   "source": []
  }
 ],
 "metadata": {
  "kernelspec": {
   "display_name": "Python 3",
   "language": "python",
   "name": "python3"
  },
  "language_info": {
   "codemirror_mode": {
    "name": "ipython",
    "version": 3
   },
   "file_extension": ".py",
   "mimetype": "text/x-python",
   "name": "python",
   "nbconvert_exporter": "python",
   "pygments_lexer": "ipython3",
   "version": "3.6.1"
  }
 },
 "nbformat": 4,
 "nbformat_minor": 2
}
