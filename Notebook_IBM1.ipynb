{
 "cells": [
  {
   "cell_type": "code",
   "execution_count": 1,
   "metadata": {
    "collapsed": true
   },
   "outputs": [],
   "source": [
    "import math\n",
    "import datasets\n",
    "import IBM1 as ibm1\n",
    "import debug_helpers\n",
    "\n",
    "# pretty print variabeles on line\n",
    "from IPython.core.interactiveshell import InteractiveShell\n",
    "InteractiveShell.ast_node_interactivity = \"all\""
   ]
  },
  {
   "cell_type": "code",
   "execution_count": 2,
   "metadata": {},
   "outputs": [
    {
     "data": {
      "text/plain": [
       "[(['das', 'Haus'], ['the', 'house']),\n",
       " (['das', 'Buch'], ['the', 'book']),\n",
       " (['ein', 'Buch'], ['a', 'book'])]"
      ]
     },
     "execution_count": 2,
     "metadata": {},
     "output_type": "execute_result"
    },
    {
     "name": "stdout",
     "output_type": "stream",
     "text": [
      "iteration  log_likelihood  likelihood  AER\n",
      "1 -4.159 0.016 0.00000\n",
      "2 -1.151 0.316 0.00000\n",
      "3 -0.842 0.431 0.00000\n",
      "4 -0.586 0.557 0.00000\n",
      "5 -0.390 0.677 0.00000\n",
      "6 -0.252 0.777 0.00000\n",
      "7 -0.159 0.853 0.00000\n",
      "8 -0.100 0.905 0.00000\n",
      "9 -0.062 0.940 0.00000\n",
      "10 -0.039 0.961 0.00000\n",
      "das the 0.9933053397165424\n",
      "das house 0.0046110887522225865\n",
      "das book 0.0020835715312351013\n",
      "Haus the 0.08276408100718743\n",
      "Haus house 0.9172359189928124\n",
      "Buch the 0.0020835715312350995\n",
      "Buch book 0.9933053397165423\n",
      "Buch a 0.004611088752222586\n",
      "ein a 0.9172359189928124\n",
      "ein book 0.08276408100718743\n",
      "\n"
     ]
    }
   ],
   "source": [
    "# Run EM on toy example\n",
    "s_t_pairs, s_vocabulary, t_vocabulary = datasets.example_data()\n",
    "s_t_pairs\n",
    "(lprobs, _, _) = ibm1.EM(s_t_pairs, s_vocabulary, t_vocabulary, \n",
    "                 fn_debug = debug_helpers.print_likelihood)\n",
    "\n",
    "debug_helpers.print_lexicon_probs(None, lprobs, None, None)"
   ]
  },
  {
   "cell_type": "code",
   "execution_count": 3,
   "metadata": {},
   "outputs": [
    {
     "data": {
      "text/plain": [
       "[(['<NULL>', 'das', 'Haus'], ['the', 'house']),\n",
       " (['<NULL>', 'das', 'Buch'], ['the', 'book']),\n",
       " (['<NULL>', 'ein', 'Buch'], ['a', 'book']),\n",
       " (['<NULL>', 'ein', 'Haus'], ['a', 'small', 'house']),\n",
       " (['<NULL>', 'mein', 'Buch'], ['my', 'small', 'book'])]"
      ]
     },
     "execution_count": 3,
     "metadata": {},
     "output_type": "execute_result"
    },
    {
     "name": "stdout",
     "output_type": "stream",
     "text": [
      "iteration  log_likelihood  likelihood  AER\n",
      "1 -8.318 0.000 0.25000\n",
      "2 -3.214 0.040 0.14286\n",
      "3 -2.152 0.116 0.14286\n",
      "4 -1.373 0.253 0.14286\n",
      "5 -0.865 0.421 0.14286\n",
      "6 -0.544 0.580 0.14286\n",
      "7 -0.338 0.713 0.14286\n",
      "8 -0.202 0.817 0.14286\n",
      "9 -0.109 0.896 0.14286\n",
      "10 -0.045 0.956 0.14286\n",
      "11 -0.000 1.000 0.14286\n",
      "12 0.031 1.032 0.14286\n",
      "13 0.054 1.055 0.14286\n",
      "14 0.070 1.072 0.14286\n",
      "15 0.081 1.085 0.14286\n",
      "16 0.090 1.094 0.14286\n",
      "17 0.096 1.101 0.14286\n",
      "18 0.101 1.106 0.14286\n",
      "19 0.104 1.110 0.14286\n",
      "20 0.107 1.113 0.14286\n",
      "<NULL> the 0.002703782024438147\n",
      "<NULL> house 0.0047664944727924\n",
      "<NULL> book 0.23131096714592353\n",
      "<NULL> a 0.0049385156306393915\n",
      "<NULL> small 0.756279473085454\n",
      "<NULL> my 7.676407527728933e-07\n",
      "das the 0.9999984381034837\n",
      "das house 1.5359743961192934e-06\n",
      "das book 2.5922120144793404e-08\n",
      "Haus the 4.917775659561484e-07\n",
      "Haus house 0.9992092174629266\n",
      "Haus a 8.766652745862759e-07\n",
      "Haus small 0.0007894140942328188\n",
      "Buch the 1.2226865092224424e-08\n",
      "Buch book 0.9999961375254085\n",
      "Buch a 2.2861551201309313e-08\n",
      "Buch my 3.3186398260819336e-06\n",
      "Buch small 5.087463490999096e-07\n",
      "ein a 0.9992370410789507\n",
      "ein book 1.602017784274745e-08\n",
      "ein small 0.0007619379939570765\n",
      "ein house 1.0049069143525652e-06\n",
      "mein my 0.8670263167073299\n",
      "mein small 0.13291483749809788\n",
      "mein book 5.88457945722153e-05\n",
      "\n"
     ]
    }
   ],
   "source": [
    "# Run EM on toy example with NULL words\n",
    "val_sentence_pairs = [(\n",
    "    ['<NULL>', 'Buch', 'klein', 'das', 'Haus'], \n",
    "    ['the', 'small', 'house', 'book']\n",
    ")]\n",
    "ref_alignments = [[\n",
    "    {(3, 1), (2, 2), (4, 3), (1, 4)}, \n",
    "    {(3, 1), (2, 2), (4, 3), (1, 4)}\n",
    "]]\n",
    "s_t_pairs, s_vocabulary, t_vocabulary = datasets.example_data_null_words()\n",
    "s_t_pairs\n",
    "(lprobs, _, _) = ibm1.EM(\n",
    "    s_t_pairs, s_vocabulary, t_vocabulary, 20,\n",
    "    val_sentence_pairs, ref_alignments, debug_helpers.print_likelihood)\n",
    "debug_helpers.print_lexicon_probs(None, lprobs, None, None)\n",
    "\n",
    "# QUESTION: how can likelihood be bigger than 1?"
   ]
  },
  {
   "cell_type": "code",
   "execution_count": 4,
   "metadata": {},
   "outputs": [
    {
     "name": "stdout",
     "output_type": "stream",
     "text": [
      "iteration  log_likelihood  likelihood  AER\n",
      "1 -34858025.333 0.000 0.37678\n",
      "2 -8405523.373 0.000 0.33749\n",
      "3 -5424561.055 0.000 0.32981\n",
      "4 -4514727.763 0.000 0.32852\n",
      "5 -4203772.133 0.000 0.33044\n",
      "6 -4064695.086 0.000 0.33237\n",
      "7 -3991189.402 0.000 0.32915\n",
      "8 -3947933.360 0.000 0.32787\n",
      "9 -3920480.549 0.000 0.32755\n",
      "10 -3902021.286 0.000 0.32177\n",
      "11 -3889024.767 0.000 0.32177\n",
      "12 -3879524.166 0.000 0.32081\n",
      "13 -3872364.267 0.000 0.31717\n",
      "14 -3866831.922 0.000 0.31814\n",
      "15 -3862467.595 0.000 0.32008\n",
      "16 -3858963.685 0.000 0.32008\n",
      "17 -3856108.787 0.000 0.32008\n",
      "18 -3853754.064 0.000 0.32008\n",
      "19 -3851789.648 0.000 0.32008\n",
      "20 -3850132.320 0.000 0.32008\n",
      "21 -3848721.998 0.000 0.32008\n",
      "22 -3847513.280 0.000 0.31814\n",
      "23 -3846470.406 0.000 0.31814\n",
      "24 -3845564.802 0.000 0.31911\n",
      "25 -3844772.642 0.000 0.31814\n",
      "26 -3844075.743 0.000 0.32008\n",
      "27 -3843459.838 0.000 0.32008\n",
      "28 -3842912.388 0.000 0.32008\n",
      "29 -3842423.821 0.000 0.32008\n",
      "30 -3841986.155 0.000 0.32008\n"
     ]
    }
   ],
   "source": [
    "# Run EM on training data set with AER on validation set\n",
    "val_sentence_pairs, _, _ = datasets.validation_data()\n",
    "reference_alignments = datasets.validation_alignments()    \n",
    "\n",
    "s_t_pairs, s_vocabulary, t_vocabulary = datasets.training_data()\n",
    "(lprobs, log_lhoods, AERs) = ibm1.EM(\n",
    "    s_t_pairs, s_vocabulary, t_vocabulary, 30,\n",
    "    val_sentence_pairs, reference_alignments, \n",
    "    debug_helpers.print_likelihood)"
   ]
  },
  {
   "cell_type": "code",
   "execution_count": 10,
   "metadata": {
    "collapsed": true
   },
   "outputs": [],
   "source": []
  },
  {
   "cell_type": "code",
   "execution_count": 11,
   "metadata": {},
   "outputs": [
    {
     "data": {
      "text/plain": [
       "-3841592.7124227234"
      ]
     },
     "execution_count": 11,
     "metadata": {},
     "output_type": "execute_result"
    }
   ],
   "source": [
    "log_likelihood_data(s_t_pairs, lprobs)"
   ]
  },
  {
   "cell_type": "code",
   "execution_count": 5,
   "metadata": {},
   "outputs": [
    {
     "name": "stdout",
     "output_type": "stream",
     "text": [
      "<NULL> .\n",
      "meets à\n",
      "worst pire\n",
      "transparent transparent\n",
      "documented documentée\n",
      "handedness commissaire\n",
      "amazed étonné\n",
      "rationalize rationaliser\n",
      "squander dilapident\n",
      "clawed gouvernement\n",
      "mud salir\n",
      "558 558\n",
      "flagged signalées\n",
      "boardwalk promenade\n",
      "Disclosure la\n"
     ]
    }
   ],
   "source": [
    "debug_helpers.print_learned_translations(lprobs, 15)"
   ]
  },
  {
   "cell_type": "code",
   "execution_count": 6,
   "metadata": {
    "collapsed": true
   },
   "outputs": [],
   "source": [
    "import json\n",
    "fname = 'probs_ibm1_iter30.txt'\n",
    "json.dump(lprobs, open(fname,'w'))"
   ]
  },
  {
   "cell_type": "code",
   "execution_count": null,
   "metadata": {
    "collapsed": true
   },
   "outputs": [],
   "source": [
    "probs_ibm1_iter_10 = json.load(open(fname))"
   ]
  },
  {
   "cell_type": "code",
   "execution_count": 8,
   "metadata": {},
   "outputs": [
    {
     "data": {
      "text/plain": [
       "[0.32007759456838025]"
      ]
     },
     "execution_count": 8,
     "metadata": {},
     "output_type": "execute_result"
    }
   ],
   "source": [
    "AERs"
   ]
  },
  {
   "cell_type": "code",
   "execution_count": 7,
   "metadata": {},
   "outputs": [
    {
     "data": {
      "text/plain": [
       "21"
      ]
     },
     "execution_count": 7,
     "metadata": {},
     "output_type": "execute_result"
    },
    {
     "data": {
      "text/plain": [
       "21"
      ]
     },
     "execution_count": 7,
     "metadata": {},
     "output_type": "execute_result"
    }
   ],
   "source": [
    "with open(\"loglhoods_ibm1_iter30.txt\", \"w\") as file:\n",
    "    file.write(str(log_lhoods))\n",
    "    \n",
    "with open(\"AERs_ibm1_iter30.txt\", \"w\") as file:\n",
    "    file.write(str(AERs))"
   ]
  },
  {
   "cell_type": "code",
   "execution_count": null,
   "metadata": {
    "collapsed": true
   },
   "outputs": [],
   "source": [
    "with open(\"test.txt\", \"r\") as file:\n",
    "    data2 = eval(file.readline())"
   ]
  }
 ],
 "metadata": {
  "kernelspec": {
   "display_name": "Python 3",
   "language": "python",
   "name": "python3"
  },
  "language_info": {
   "codemirror_mode": {
    "name": "ipython",
    "version": 3
   },
   "file_extension": ".py",
   "mimetype": "text/x-python",
   "name": "python",
   "nbconvert_exporter": "python",
   "pygments_lexer": "ipython3",
   "version": "3.6.1"
  }
 },
 "nbformat": 4,
 "nbformat_minor": 2
}
