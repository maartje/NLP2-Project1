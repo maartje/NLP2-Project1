{
 "cells": [
  {
   "cell_type": "code",
   "execution_count": 10,
   "metadata": {
    "collapsed": true
   },
   "outputs": [],
   "source": [
    "import datasets\n",
    "import debug_helpers\n",
    "import persistence\n",
    "import plots\n",
    "import convergence_criterion as cc\n",
    "import initializations as inits\n",
    "import IBM2 as ibm2\n",
    "import evaluate\n",
    "import os.path\n",
    "\n",
    "\n",
    "# pretty print variabeles on line\n",
    "from IPython.core.interactiveshell import InteractiveShell\n",
    "InteractiveShell.ast_node_interactivity = \"all\""
   ]
  },
  {
   "cell_type": "code",
   "execution_count": 18,
   "metadata": {},
   "outputs": [],
   "source": [
    "# s_t_pairs, _, _ = datasets.example_data_word_order()\n",
    "\n",
    "# lprobs_random = inits.initialize_lprobs_randomly(s_t_pairs)\n",
    "# jump_probs_random = inits.initialize_jump_probs_randomly(s_t_pairs)\n",
    "\n",
    "# (lprobs, jump_probs, _, _) = ibm2.EM(\n",
    "#     s_t_pairs, \n",
    "#     lprobs_random, \n",
    "#     jump_probs_random, \n",
    "#     30\n",
    "# ) \n",
    "\n",
    "# s_t_pairs\n",
    "# debug_helpers.print_lexicon_probs(None, lprobs, None, None)\n",
    "# jump_probs"
   ]
  },
  {
   "cell_type": "markdown",
   "metadata": {},
   "source": [
    "# Step 1:\n",
    "- We run the EM algorithm for 15 iterations.\n",
    "- During the run we save to disk the models selected by the AER and LL convergence criteria\n",
    "- After the run we save to disk the AER and LL scores for the iterations\n",
    "- (for IBM2 we repeat this with different initializations)"
   ]
  },
  {
   "cell_type": "code",
   "execution_count": 3,
   "metadata": {
    "collapsed": true
   },
   "outputs": [],
   "source": [
    "def fname_ibm2(fname):\n",
    "    return f'IBM2_output/{fname}'\n",
    "\n",
    "# HACK: store converged models during the iteration run\n",
    "AER_scores = {}\n",
    "llhood_scores = {}\n",
    "def save_selected_models(i, llhood, AER, prev_llhood, prev_AER,\n",
    "                      lprobs, jump_probs, mname):\n",
    "    debug_helpers.print_likelihood(i, [], llhood, AER)\n",
    "    if prev_AER and (mname not in AER_scores) and cc.has_converged_AER(prev_AER, AER):\n",
    "        persistence.save_ibm2_model(lprobs, jump_probs, fname_ibm2(f'params_{mname}_AER_{i}.txt'))\n",
    "        AER_scores[mname] = AER\n",
    "    if prev_llhood and (mname not in llhood_scores) and cc.has_converged_LLhood(prev_llhood, llhood):\n",
    "        persistence.save_ibm2_model(lprobs, jump_probs, fname_ibm2(f'params_{mname}_llhood_{i}.txt'))\n",
    "        llhood_scores[mname] = llhood\n",
    "        \n",
    "def run_em_with_initialization(\n",
    "    s_t_pairs, val_sentence_pairs, reference_alignments,\n",
    "    fn_init, fn_init_jumps, init_name):\n",
    "\n",
    "    lprobs_init = fn_init(s_t_pairs)\n",
    "    jump_probs_init = fn_init_jumps(s_t_pairs)\n",
    "\n",
    "    # EM\n",
    "    (lprobs, jump_probs, llhoods, AERs) = ibm2.EM (\n",
    "        s_t_pairs, \n",
    "        lprobs_init, \n",
    "        jump_probs_init,\n",
    "        15,\n",
    "        val_sentence_pairs, reference_alignments, \n",
    "        save_selected_models, init_name)\n",
    "\n",
    "    # store AER and llhood scores in file\n",
    "    persistence.save(AERs, fname_ibm2(f'AERs_{init_name}.txt'))\n",
    "    persistence.save(llhoods, fname_ibm2(f'llhoods_{init_name}.txt'))\n",
    "\n",
    "    # select models based on AER and llhood selection criterion\n",
    "    selected_model_AER = fname_ibm2(cc.select_model_AER(AERs))\n",
    "    selected_model_llhood = fname_ibm2(cc.select_model_LLhood(llhoods))\n",
    "    print(f'model selected on AER for {init_name}:', selected_model_AER)\n",
    "    print(f'model selected on LLhood for {init_name}:', selected_model_llhood)\n",
    "\n",
    "    # plot AER and llhood scores vs iteration\n",
    "#    plots.figure_log_likelihood(llhoods, fname_ibm2(f'IBM2_{init_name}'))\n",
    "#    plots.figure_AER(AERs, fname_ibm2(f'IBM2_{init_name}'))"
   ]
  },
  {
   "cell_type": "code",
   "execution_count": 4,
   "metadata": {
    "scrolled": true
   },
   "outputs": [
    {
     "name": "stdout",
     "output_type": "stream",
     "text": [
      "iteration    log_likelihood    AER    time\n",
      "0 -21.683 0.00000 03:38\n",
      "1 -17.988 0.00000 03:38\n",
      "2 -17.297 0.00000 03:38\n",
      "3 -16.721 0.00000 03:38\n",
      "4 -15.962 0.00000 03:38\n",
      "5 -15.376 0.00000 03:38\n",
      "6 -14.670 0.00000 03:38\n",
      "7 -13.617 0.00000 03:38\n",
      "8 -12.743 0.00000 03:38\n",
      "9 -12.497 0.00000 03:38\n",
      "10 -12.480 0.00000 03:38\n",
      "11 -12.478 0.00000 03:38\n",
      "12 -12.477 0.00000 03:38\n",
      "13 -12.477 0.00000 03:38\n",
      "14 -12.477 0.00000 03:38\n",
      "model selected on AER for IBM2_RR_1: IBM2_output/None\n",
      "model selected on LLhood for IBM2_RR_1: IBM2_output/11\n",
      "iteration    log_likelihood    AER    time\n",
      "0 -22.362 0.00000 03:38\n",
      "1 -17.493 0.00000 03:38\n",
      "2 -15.630 0.00000 03:38\n",
      "3 -13.340 0.00000 03:38\n",
      "4 -9.356 0.00000 03:38\n",
      "5 -4.476 0.00000 03:38\n",
      "6 -1.724 0.00000 03:38\n",
      "7 -0.845 0.00000 03:38\n",
      "8 -0.440 0.00000 03:38\n",
      "9 -0.225 0.00000 03:38\n",
      "10 -0.114 0.00000 03:38\n",
      "11 -0.057 0.00000 03:38\n",
      "12 -0.029 0.00000 03:38\n",
      "13 -0.014 0.00000 03:38\n",
      "14 -0.007 0.00000 03:38\n",
      "model selected on AER for IBM2_RR_2: IBM2_output/None\n",
      "model selected on LLhood for IBM2_RR_2: IBM2_output/None\n",
      "iteration    log_likelihood    AER    time\n",
      "0 -22.070 0.00000 03:38\n",
      "1 -18.016 0.00000 03:38\n",
      "2 -15.871 0.00000 03:38\n",
      "3 -13.496 0.00000 03:38\n",
      "4 -9.536 0.00000 03:38\n",
      "5 -4.271 0.00000 03:38\n",
      "6 -0.840 0.00000 03:38\n",
      "7 -0.107 0.00000 03:38\n",
      "8 -0.044 0.00000 03:38\n",
      "9 -0.022 0.00000 03:38\n",
      "10 -0.011 0.00000 03:38\n",
      "11 -0.006 0.00000 03:38\n",
      "12 -0.003 0.00000 03:38\n",
      "13 -0.001 0.00000 03:38\n",
      "14 -0.001 0.00000 03:38\n",
      "model selected on AER for IBM2_RR_3: IBM2_output/None\n",
      "model selected on LLhood for IBM2_RR_3: IBM2_output/None\n",
      "iteration    log_likelihood    AER    time\n",
      "0 -21.847 0.00000 03:38\n",
      "1 -18.498 0.00000 03:38\n",
      "2 -17.347 0.00000 03:38\n",
      "3 -16.878 0.00000 03:38\n",
      "4 -16.722 0.00000 03:38\n",
      "5 -16.703 0.00000 03:38\n",
      "6 -16.755 0.00000 03:38\n",
      "7 -16.840 0.00000 03:38\n",
      "8 -16.855 0.00000 03:38\n",
      "9 -16.560 0.00000 03:38\n",
      "10 -15.919 0.00000 03:38\n",
      "11 -15.379 0.00000 03:38\n",
      "12 -14.696 0.00000 03:38\n",
      "13 -13.649 0.00000 03:38\n",
      "14 -12.759 0.00000 03:38\n",
      "model selected on AER for IBM2_uniform: IBM2_output/None\n",
      "model selected on LLhood for IBM2_uniform: IBM2_output/8\n"
     ]
    }
   ],
   "source": [
    "# s_t_pairs, s_vocabulary, t_vocabulary = datasets.training_data()\n",
    "# val_sentence_pairs = datasets.validation_data(s_vocabulary, t_vocabulary)\n",
    "(training_pairs, validation_pairs, test_pairs) = persistence.get_preprocessed_sentence_pairs()\n",
    "reference_alignments = datasets.validation_alignments()    \n",
    "\n",
    "s_t_pairs, s_vocabulary, t_vocabulary = datasets.example_data_word_order()\n",
    "val_sentence_pairs = None\n",
    "reference_alignments = None    \n",
    "\n",
    "AER_scores = {}\n",
    "llhood_scores = {}\n",
    "\n",
    "# Run EM on training data set with AER on validation set\n",
    "# using random initialization (3x)\n",
    "run_em_with_initialization(\n",
    "    training_pairs, validation_pairs, reference_alignments,\n",
    "    inits.initialize_lprobs_randomly, inits.initialize_jump_probs_randomly, 'IBM2_RR_1')\n",
    "run_em_with_initialization(\n",
    "    training_pairs, validation_pairs, reference_alignments,\n",
    "    inits.initialize_lprobs_randomly, inits.initialize_jump_probs_randomly, 'IBM2_RR_2')\n",
    "run_em_with_initialization(\n",
    "    training_pairs, validation_pairs, reference_alignments,\n",
    "    inits.initialize_lprobs_randomly, inits.initialize_jump_probs_randomly, 'IBM2_RR_3')\n",
    "\n",
    "# Run EM on training data set with AER on validation set\n",
    "# using uniform initialization \n",
    "run_em_with_initialization(\n",
    "    training_pairs, validation_pairs, reference_alignments,\n",
    "    inits.initialize_lprobs_uniform, inits.initialize_jump_probs_uniformly, 'IBM2_uniform')\n",
    "\n",
    "# Run EM on training data set with AER on validation set\n",
    "# using initialization with IBM 1 und uniform jump probabilities\n",
    "# run_em_with_initialization(\n",
    "#     training_pairs, validation_pairs, reference_alignments,\n",
    "#     inits.initialize_lprobs_staged, inits.initialize_jump_probs_uniformly, 'IBM2_staged')\n",
    "\n",
    "\n",
    "\n"
   ]
  },
  {
   "cell_type": "markdown",
   "metadata": {},
   "source": [
    "# Step 2:\n",
    "- We read from disk the AER and LL scores for the different initializations\n",
    "- We plot those in a multiple line diagram"
   ]
  },
  {
   "cell_type": "code",
   "execution_count": 5,
   "metadata": {},
   "outputs": [
    {
     "data": {
      "image/png": "[encoded data removed]",
      "text/plain": [
       "<matplotlib.figure.Figure at 0x7fd032098eb8>"
      ]
     },
     "metadata": {},
     "output_type": "display_data"
    },
    {
     "data": {
      "image/png": "[encoded data removed]",
      "text/plain": [
       "<matplotlib.figure.Figure at 0x7fd030088d68>"
      ]
     },
     "metadata": {},
     "output_type": "display_data"
    }
   ],
   "source": [
    "def add_plot_data(init_name, label):\n",
    "    fname_ibm2_AERs = fname_ibm2(f'AERs_{init_name}.txt')    \n",
    "    fname_ibm2_llhoods = fname_ibm2(f'llhoods_{init_name}.txt')\n",
    "    AERs = persistence.load(fname_ibm2_AERs)\n",
    "    llhoods = persistence.load(fname_ibm2_llhoods)\n",
    "    AER_lines.append(AERs)\n",
    "    llhood_lines.append(llhoods)\n",
    "    model_names.append(label) \n",
    "    \n",
    "AER_lines = []\n",
    "llhood_lines = []\n",
    "model_names = []\n",
    "for i in [1,2,3]:\n",
    "    init_name = f'IBM2_RR_{i}'\n",
    "    add_plot_data(init_name, f'random_{i}')\n",
    "add_plot_data('IBM2_uniform', 'uniform')\n",
    "#add_plot_data('IBM2_staged')\n",
    "\n",
    "plots.figure_AER_multiple_lines(AER_lines, model_names, fname_ibm2('IBM2_inits_AER.png'))\n",
    "plots.figure_llhood_multiple_lines(llhood_lines, model_names, fname_ibm2('IBM2_inits_llhoods.png'))"
   ]
  },
  {
   "cell_type": "markdown",
   "metadata": {},
   "source": [
    "# old file names\n",
    "Just some helpers to identify the file names that contains the best AER and LL models for random initialization "
   ]
  },
  {
   "cell_type": "code",
   "execution_count": 8,
   "metadata": {},
   "outputs": [],
   "source": [
    "# Helpers for old generated files\n",
    "def fname_best_random_AER():\n",
    "    AER_selected_iterations = [7, 10, 8]\n",
    "    selected_AER_scores = []\n",
    "    for i in range(1,4):\n",
    "        fname_ibm2_AERs = fname_ibm2(f'old/ibm2_AERs_IBM2_rr_{i}.txt')\n",
    "        it_num = AER_selected_iterations[i - 1]\n",
    "        AER_rr = persistence.load(fname_ibm2_AERs)[it_num]\n",
    "        selected_AER_scores.append(AER_rr)\n",
    "    min_AER = min(selected_AER_scores)\n",
    "    rr_index = selected_AER_scores.index(min_AER) + 1\n",
    "    it = AER_selected_iterations[rr_index - 1]\n",
    "    fname = fname_ibm2(f'old/ibm2_IBM2_rr_{rr_index}_AER_{it}.txt')\n",
    "    return fname\n",
    "\n",
    "def fname_best_random_LL():\n",
    "    LL_selected_iterations = [10, 10, 9]\n",
    "    selected_LL_scores = []\n",
    "    for i in range(1,4):\n",
    "        fname_ibm2_LLs = fname_ibm2(f'old/ibm2_llhoods_IBM2_rr_{i}.txt')\n",
    "        it_num = LL_selected_iterations[i - 1]\n",
    "        LL_rr = persistence.load(fname_ibm2_LLs)[it_num]\n",
    "        selected_LL_scores.append(LL_rr)\n",
    "    max_LL = max(selected_LL_scores)\n",
    "    rr_index = selected_LL_scores.index(max_LL) + 1\n",
    "    it = LL_selected_iterations[rr_index - 1]\n",
    "    fname = fname_ibm2(f'old/ibm2_IBM2_rr_{rr_index}_llhood_{it}.txt')\n",
    "    return fname"
   ]
  },
  {
   "cell_type": "markdown",
   "metadata": {},
   "source": [
    "# Step 3:\n",
    "Evaluate the model on the test data using the official tool.\n",
    "The result is 1) AER score in terminal 2) file in NAACL format that must be part of the submission\n",
    "(for the best model)"
   ]
  },
  {
   "cell_type": "code",
   "execution_count": 16,
   "metadata": {},
   "outputs": [
    {
     "name": "stdout",
     "output_type": "stream",
     "text": [
      "File generated: IBM2_RR_AER.nonullalign.\n",
      "Look in terminal to check if --IBM2_RR_AER.nonullalign-- is in NAACL format...\n",
      "Look in terminal to see AER scores...\n"
     ]
    }
   ],
   "source": [
    "def evaluate_IBM2_model(test_sentence_pairs, path_to_model, model_name):\n",
    "    (lprobs, jump_probs) = persistence.load_ibm2_model(path_to_model)\n",
    "    alignments = ibm2.align(lprobs, jump_probs, test_sentence_pairs)\n",
    "    evaluate.evaluate_alignments_testset(model_name, alignments)    \n",
    "\n",
    "model_name_AER = 'IBM2_RR_AER'\n",
    "path_to_AER_model = fname_best_random_AER()\n",
    "evaluate_IBM2_model(test_pairs, path_to_AER_model, model_name_AER)\n",
    "\n",
    "model_name_LL = 'IBM2_RR_LL'\n",
    "path_to_LL_model = fname_best_random_LL()\n",
    "evaluate_IBM2_model(test_pairs, path_to_LL_model, model_name_LL)"
   ]
  },
  {
   "cell_type": "code",
   "execution_count": null,
   "metadata": {
    "collapsed": true
   },
   "outputs": [],
   "source": []
  }
 ],
 "metadata": {
  "kernelspec": {
   "display_name": "Python 3",
   "language": "python",
   "name": "python3"
  },
  "language_info": {
   "codemirror_mode": {
    "name": "ipython",
    "version": 3
   },
   "file_extension": ".py",
   "mimetype": "text/x-python",
   "name": "python",
   "nbconvert_exporter": "python",
   "pygments_lexer": "ipython3",
   "version": "3.6.1"
  }
 },
 "nbformat": 4,
 "nbformat_minor": 2
}
