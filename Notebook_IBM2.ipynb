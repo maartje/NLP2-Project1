{
 "cells": [
  {
   "cell_type": "code",
   "execution_count": 1,
   "metadata": {
    "collapsed": true
   },
   "outputs": [],
   "source": [
    "import datasets\n",
    "import debug_helpers\n",
    "import persistence\n",
    "import plots\n",
    "import convergence_criterion as cc\n",
    "import initializations as inits\n",
    "import IBM2 as ibm2\n",
    "import evaluate\n",
    "import os.path\n",
    "\n",
    "\n",
    "# pretty print variabeles on line\n",
    "from IPython.core.interactiveshell import InteractiveShell\n",
    "InteractiveShell.ast_node_interactivity = \"all\""
   ]
  },
  {
   "cell_type": "code",
   "execution_count": null,
   "metadata": {
    "collapsed": true
   },
   "outputs": [],
   "source": [
    "# s_t_pairs, _, _ = datasets.example_data_word_order()\n",
    "\n",
    "# lprobs_random = inits.initialize_lprobs_randomly(s_t_pairs)\n",
    "# jump_probs_random = inits.initialize_jump_probs_randomly(s_t_pairs)\n",
    "\n",
    "# (lprobs, jump_probs, _, _) = ibm2.EM(\n",
    "#     s_t_pairs, \n",
    "#     lprobs_random, \n",
    "#     jump_probs_random, \n",
    "#     30\n",
    "# ) \n",
    "\n",
    "# s_t_pairs\n",
    "# debug_helpers.print_lexicon_probs(None, lprobs, None, None)\n",
    "# jump_probs"
   ]
  },
  {
   "cell_type": "markdown",
   "metadata": {},
   "source": [
    "# Step 1:\n",
    "- We run the EM algorithm for 15 iterations.\n",
    "- During the run we save to disk the models selected by the AER and LL convergence criteria\n",
    "- After the run we save to disk the AER and LL scores for the iterations\n",
    "- (for IBM2 we repeat this with different initializations)"
   ]
  },
  {
   "cell_type": "code",
   "execution_count": 2,
   "metadata": {
    "collapsed": true
   },
   "outputs": [],
   "source": [
    "def fname_ibm2(fname):\n",
    "    return f'IBM2_output/{fname}'\n",
    "\n",
    "# HACK: store converged models during the iteration run\n",
    "AER_scores = {}\n",
    "llhood_scores = {}\n",
    "def save_selected_models(i, llhood, AER, prev_llhood, prev_AER,\n",
    "                      lprobs, jump_probs, mname):\n",
    "    debug_helpers.print_likelihood(i, [], llhood, AER)\n",
    "    if prev_AER and (mname not in AER_scores) and cc.has_converged_AER(prev_AER, AER):\n",
    "        persistence.save_ibm2_model(lprobs, jump_probs, fname_ibm2(f'params_{mname}_AER_{i}.txt'))\n",
    "        AER_scores[mname] = AER\n",
    "    if prev_llhood and (mname not in llhood_scores) and cc.has_converged_LLhood(prev_llhood, llhood):\n",
    "        persistence.save_ibm2_model(lprobs, jump_probs, fname_ibm2(f'params_{mname}_llhood_{i}.txt'))\n",
    "        llhood_scores[mname] = llhood\n",
    "        \n",
    "def run_em_with_initialization(\n",
    "    s_t_pairs, val_sentence_pairs, reference_alignments,\n",
    "    fn_init, fn_init_jumps, init_name):\n",
    "\n",
    "    lprobs_init = fn_init(s_t_pairs)\n",
    "    jump_probs_init = fn_init_jumps(s_t_pairs)\n",
    "\n",
    "    # EM\n",
    "    (lprobs, jump_probs, llhoods, AERs) = ibm2.EM (\n",
    "        s_t_pairs, \n",
    "        lprobs_init, \n",
    "        jump_probs_init,\n",
    "        15,\n",
    "        val_sentence_pairs, reference_alignments, \n",
    "        save_selected_models, init_name)\n",
    "\n",
    "    # store AER and llhood scores in file\n",
    "    persistence.save(AERs, fname_ibm2(f'AERs_{init_name}.txt'))\n",
    "    persistence.save(llhoods, fname_ibm2(f'llhoods_{init_name}.txt'))\n",
    "\n",
    "    # select models based on AER and llhood selection criterion\n",
    "    selected_model_AER = fname_ibm2(cc.select_model_AER(AERs))\n",
    "    selected_model_llhood = fname_ibm2(cc.select_model_LLhood(llhoods))\n",
    "    print(f'model selected on AER for {init_name}:', selected_model_AER)\n",
    "    print(f'model selected on LLhood for {init_name}:', selected_model_llhood)\n",
    "\n",
    "    # plot AER and llhood scores vs iteration\n",
    "#    plots.figure_log_likelihood(llhoods, fname_ibm2(f'IBM2_{init_name}'))\n",
    "#    plots.figure_AER(AERs, fname_ibm2(f'IBM2_{init_name}'))"
   ]
  },
  {
   "cell_type": "code",
   "execution_count": 5,
   "metadata": {
    "scrolled": true
   },
   "outputs": [
    {
     "name": "stdout",
     "output_type": "stream",
     "text": [
      "iteration    log_likelihood    AER    time\n",
      "0 -35670201.595 0.82908 10:25\n",
      "1 -22272111.929 0.27951 10:33\n",
      "2 -17894131.590 0.25118 10:41\n",
      "3 -16337044.295 0.23418 10:50\n",
      "4 -15922533.436 0.23324 10:58\n",
      "5 -15798644.564 0.23135 11:06\n",
      "6 -15745547.772 0.23041 11:14\n",
      "7 -15718382.243 0.23135 11:22\n",
      "8 -15702995.067 0.23229 11:31\n",
      "9 -15693686.286 0.23607 11:40\n",
      "10 -15687745.401 0.23607 11:48\n",
      "11 -15683794.250 0.23607 11:56\n",
      "12 -15681088.674 0.23985 12:04\n",
      "13 -15679197.269 0.23985 12:13\n",
      "14 -15677853.965 0.24174 12:21\n",
      "model selected on AER for IBM2_uniform: IBM2_output/7\n",
      "model selected on LLhood for IBM2_uniform: IBM2_output/8\n",
      "iteration    log_likelihood    AER    time\n",
      "0 -18799460.302 0.32153 12:33\n",
      "1 -16781372.212 0.24455 12:42\n",
      "2 -16239000.772 0.23791 12:50\n",
      "3 -16024719.771 0.23580 12:58\n",
      "4 -15913380.977 0.23157 01:07\n",
      "5 -15845154.026 0.23251 01:15\n",
      "6 -15800158.109 0.22968 01:24\n",
      "7 -15769399.904 0.23041 01:33\n",
      "8 -15747411.258 0.23324 01:41\n",
      "9 -15730690.830 0.23418 01:49\n",
      "10 -15718604.486 0.23418 01:58\n",
      "11 -15709507.030 0.23513 02:07\n",
      "12 -15702475.279 0.23440 02:15\n",
      "13 -15696997.800 0.23535 02:23\n",
      "14 -15692651.622 0.23535 02:32\n",
      "model selected on AER for IBM2_staged: IBM2_output/5\n",
      "model selected on LLhood for IBM2_staged: IBM2_output/10\n",
      "iteration    log_likelihood    AER    time\n",
      "0 -36160420.892 0.83617 02:45\n",
      "1 -22164204.140 0.36200 02:53\n",
      "2 -17896574.010 0.29301 03:01\n",
      "3 -16432976.589 0.25401 03:10\n",
      "4 -16018695.719 0.24858 03:18\n",
      "5 -15866286.174 0.24291 03:26\n",
      "6 -15794665.208 0.22684 03:34\n",
      "7 -15755457.932 0.23062 03:43\n",
      "8 -15731832.605 0.22946 03:52\n",
      "9 -15716601.416 0.23324 04:00\n",
      "10 -15706292.407 0.23324 04:09\n",
      "11 -15699030.650 0.23607 04:17\n",
      "12 -15693813.944 0.23796 04:25\n",
      "13 -15690004.905 0.23607 04:34\n",
      "14 -15687156.680 0.23702 04:42\n",
      "model selected on AER for IBM2_RR_1: IBM2_output/7\n",
      "model selected on LLhood for IBM2_RR_1: IBM2_output/9\n",
      "iteration    log_likelihood    AER    time\n",
      "0 -36140560.241 0.80151 04:55\n",
      "1 -21928387.622 0.38941 05:03\n",
      "2 -17787548.504 0.29745 05:12\n",
      "3 -16432522.445 0.25779 05:20\n",
      "4 -16023193.314 0.23890 05:28\n",
      "5 -15868673.652 0.23135 05:36\n",
      "6 -15796269.058 0.23229 05:44\n",
      "7 -15756701.147 0.23041 05:53\n",
      "8 -15732791.811 0.23041 06:02\n",
      "9 -15717405.186 0.23041 06:10\n",
      "10 -15707067.172 0.23041 06:19\n",
      "11 -15699838.469 0.23041 06:27\n",
      "12 -15694612.777 0.23418 06:35\n",
      "13 -15690729.781 0.23513 06:44\n",
      "14 -15687789.578 0.23513 06:52\n",
      "model selected on AER for IBM2_RR_2: IBM2_output/6\n",
      "model selected on LLhood for IBM2_RR_2: IBM2_output/9\n",
      "iteration    log_likelihood    AER    time\n",
      "0 -36408260.722 0.83444 07:05\n",
      "1 -22387198.951 0.44045 07:13\n",
      "2 -18312755.993 0.33270 07:22\n",
      "3 -16681368.296 0.27694 07:30\n",
      "4 -16146157.598 0.26087 07:38\n",
      "5 -15943774.366 0.25236 07:46\n",
      "6 -15846948.648 0.24953 07:55\n",
      "7 -15792312.066 0.24953 08:03\n",
      "8 -15758619.067 0.23629 08:11\n",
      "9 -15736666.817 0.23796 08:19\n",
      "10 -15721721.554 0.23796 08:28\n"
     ]
    },
    {
     "ename": "KeyboardInterrupt",
     "evalue": "",
     "output_type": "error",
     "traceback": [
      "\u001b[0;31m---------------------------------------------------------------------------\u001b[0m",
      "\u001b[0;31mKeyboardInterrupt\u001b[0m                         Traceback (most recent call last)",
      "\u001b[0;32m<ipython-input-5-b063c6b4b797>\u001b[0m in \u001b[0;36m<module>\u001b[0;34m()\u001b[0m\n\u001b[1;32m     32\u001b[0m run_em_with_initialization(\n\u001b[1;32m     33\u001b[0m     \u001b[0mtraining_pairs\u001b[0m\u001b[0;34m,\u001b[0m \u001b[0mvalidation_pairs\u001b[0m\u001b[0;34m,\u001b[0m \u001b[0mreference_alignments\u001b[0m\u001b[0;34m,\u001b[0m\u001b[0;34m\u001b[0m\u001b[0m\n\u001b[0;32m---> 34\u001b[0;31m     inits.initialize_lprobs_randomly, inits.initialize_jump_probs_randomly, 'IBM2_RR_3')\n\u001b[0m\u001b[1;32m     35\u001b[0m \u001b[0;34m\u001b[0m\u001b[0m\n\u001b[1;32m     36\u001b[0m \u001b[0;34m\u001b[0m\u001b[0m\n",
      "\u001b[0;32m<ipython-input-2-60f7d201c1f5>\u001b[0m in \u001b[0;36mrun_em_with_initialization\u001b[0;34m(s_t_pairs, val_sentence_pairs, reference_alignments, fn_init, fn_init_jumps, init_name)\u001b[0m\n\u001b[1;32m     29\u001b[0m         \u001b[0;36m15\u001b[0m\u001b[0;34m,\u001b[0m\u001b[0;34m\u001b[0m\u001b[0m\n\u001b[1;32m     30\u001b[0m         \u001b[0mval_sentence_pairs\u001b[0m\u001b[0;34m,\u001b[0m \u001b[0mreference_alignments\u001b[0m\u001b[0;34m,\u001b[0m\u001b[0;34m\u001b[0m\u001b[0m\n\u001b[0;32m---> 31\u001b[0;31m         save_selected_models, init_name)\n\u001b[0m\u001b[1;32m     32\u001b[0m \u001b[0;34m\u001b[0m\u001b[0m\n\u001b[1;32m     33\u001b[0m     \u001b[0;31m# store AER and llhood scores in file\u001b[0m\u001b[0;34m\u001b[0m\u001b[0;34m\u001b[0m\u001b[0m\n",
      "\u001b[0;32m/home/maartje/Documents/UvA-Courses/NLP2/NLP2-Project1/IBM2.py\u001b[0m in \u001b[0;36mEM\u001b[0;34m(s_t_pairs, lprobs, jump_probs, max_iterations, val_sentence_pairs, reference_alignments, fn_after_E, mname)\u001b[0m\n\u001b[1;32m     90\u001b[0m             \u001b[0;32mfor\u001b[0m \u001b[0mt_pos\u001b[0m\u001b[0;34m,\u001b[0m \u001b[0mt_word\u001b[0m \u001b[0;32min\u001b[0m \u001b[0menumerate\u001b[0m\u001b[0;34m(\u001b[0m\u001b[0mt_sentence\u001b[0m\u001b[0;34m)\u001b[0m\u001b[0;34m:\u001b[0m\u001b[0;34m\u001b[0m\u001b[0m\n\u001b[1;32m     91\u001b[0m                 prob_counts = source_dependencies(\n\u001b[0;32m---> 92\u001b[0;31m                     s_sentence, t_word, t_pos, t_length, lprobs, jump_probs)\n\u001b[0m\u001b[1;32m     93\u001b[0m                 \u001b[0ms_total_t\u001b[0m \u001b[0;34m=\u001b[0m \u001b[0msum\u001b[0m\u001b[0;34m(\u001b[0m\u001b[0mprob_counts\u001b[0m\u001b[0;34m)\u001b[0m\u001b[0;34m\u001b[0m\u001b[0m\n\u001b[1;32m     94\u001b[0m                 \u001b[0mlog_likelihood\u001b[0m \u001b[0;34m+=\u001b[0m \u001b[0mmath\u001b[0m\u001b[0;34m.\u001b[0m\u001b[0mlog\u001b[0m\u001b[0;34m(\u001b[0m\u001b[0ms_total_t\u001b[0m\u001b[0;34m)\u001b[0m\u001b[0;34m\u001b[0m\u001b[0m\n",
      "\u001b[0;32m/home/maartje/Documents/UvA-Courses/NLP2/NLP2-Project1/IBM2.py\u001b[0m in \u001b[0;36msource_dependencies\u001b[0;34m(s_sentence, t_word, t_pos, t_length, lprobs, jump_probs)\u001b[0m\n\u001b[1;32m     12\u001b[0m     jump_probs = [get_jump_prob(\n\u001b[1;32m     13\u001b[0m         \u001b[0ms_word_pos\u001b[0m\u001b[0;34m,\u001b[0m \u001b[0mt_pos\u001b[0m\u001b[0;34m,\u001b[0m \u001b[0ms_length\u001b[0m\u001b[0;34m,\u001b[0m \u001b[0mt_length\u001b[0m\u001b[0;34m,\u001b[0m \u001b[0mjump_probs\u001b[0m\u001b[0;34m\u001b[0m\u001b[0m\n\u001b[0;32m---> 14\u001b[0;31m     ) for s_word_pos in range(s_length)]\n\u001b[0m\u001b[1;32m     15\u001b[0m     \u001b[0msum_jump_probs\u001b[0m \u001b[0;34m=\u001b[0m \u001b[0msum\u001b[0m\u001b[0;34m(\u001b[0m\u001b[0mjump_probs\u001b[0m\u001b[0;34m)\u001b[0m\u001b[0;34m\u001b[0m\u001b[0m\n\u001b[1;32m     16\u001b[0m \u001b[0;34m\u001b[0m\u001b[0m\n",
      "\u001b[0;32m/home/maartje/Documents/UvA-Courses/NLP2/NLP2-Project1/IBM2.py\u001b[0m in \u001b[0;36m<listcomp>\u001b[0;34m(.0)\u001b[0m\n\u001b[1;32m     12\u001b[0m     jump_probs = [get_jump_prob(\n\u001b[1;32m     13\u001b[0m         \u001b[0ms_word_pos\u001b[0m\u001b[0;34m,\u001b[0m \u001b[0mt_pos\u001b[0m\u001b[0;34m,\u001b[0m \u001b[0ms_length\u001b[0m\u001b[0;34m,\u001b[0m \u001b[0mt_length\u001b[0m\u001b[0;34m,\u001b[0m \u001b[0mjump_probs\u001b[0m\u001b[0;34m\u001b[0m\u001b[0m\n\u001b[0;32m---> 14\u001b[0;31m     ) for s_word_pos in range(s_length)]\n\u001b[0m\u001b[1;32m     15\u001b[0m     \u001b[0msum_jump_probs\u001b[0m \u001b[0;34m=\u001b[0m \u001b[0msum\u001b[0m\u001b[0;34m(\u001b[0m\u001b[0mjump_probs\u001b[0m\u001b[0;34m)\u001b[0m\u001b[0;34m\u001b[0m\u001b[0m\n\u001b[1;32m     16\u001b[0m \u001b[0;34m\u001b[0m\u001b[0m\n",
      "\u001b[0;32m/home/maartje/Documents/UvA-Courses/NLP2/NLP2-Project1/IBM2.py\u001b[0m in \u001b[0;36mget_jump_prob\u001b[0;34m(s_pos, t_pos, s_length, t_length, jump_probs)\u001b[0m\n\u001b[1;32m     47\u001b[0m \u001b[0;31m# special NULL word at position 0\u001b[0m\u001b[0;34m\u001b[0m\u001b[0;34m\u001b[0m\u001b[0m\n\u001b[1;32m     48\u001b[0m \u001b[0;32mdef\u001b[0m \u001b[0mget_jump_prob\u001b[0m\u001b[0;34m(\u001b[0m\u001b[0ms_pos\u001b[0m\u001b[0;34m,\u001b[0m \u001b[0mt_pos\u001b[0m\u001b[0;34m,\u001b[0m \u001b[0ms_length\u001b[0m\u001b[0;34m,\u001b[0m \u001b[0mt_length\u001b[0m\u001b[0;34m,\u001b[0m \u001b[0mjump_probs\u001b[0m\u001b[0;34m)\u001b[0m\u001b[0;34m:\u001b[0m\u001b[0;34m\u001b[0m\u001b[0m\n\u001b[0;32m---> 49\u001b[0;31m     \u001b[0mjump_prob_index\u001b[0m \u001b[0;34m=\u001b[0m \u001b[0mget_jump_prob_index\u001b[0m\u001b[0;34m(\u001b[0m\u001b[0ms_pos\u001b[0m\u001b[0;34m,\u001b[0m \u001b[0mt_pos\u001b[0m\u001b[0;34m,\u001b[0m \u001b[0ms_length\u001b[0m\u001b[0;34m,\u001b[0m \u001b[0mt_length\u001b[0m\u001b[0;34m,\u001b[0m \u001b[0mjump_probs\u001b[0m\u001b[0;34m)\u001b[0m\u001b[0;34m\u001b[0m\u001b[0m\n\u001b[0m\u001b[1;32m     50\u001b[0m     \u001b[0;32mreturn\u001b[0m \u001b[0mjump_probs\u001b[0m\u001b[0;34m[\u001b[0m\u001b[0mjump_prob_index\u001b[0m\u001b[0;34m]\u001b[0m\u001b[0;34m\u001b[0m\u001b[0m\n\u001b[1;32m     51\u001b[0m \u001b[0;34m\u001b[0m\u001b[0m\n",
      "\u001b[0;32m/home/maartje/Documents/UvA-Courses/NLP2/NLP2-Project1/IBM2.py\u001b[0m in \u001b[0;36mget_jump_prob_index\u001b[0;34m(s_pos, t_pos, s_length, t_length, jump_probs)\u001b[0m\n\u001b[1;32m     29\u001b[0m     \u001b[0mjump\u001b[0m \u001b[0;34m=\u001b[0m \u001b[0mint\u001b[0m\u001b[0;34m(\u001b[0m\u001b[0ms_pos\u001b[0m \u001b[0;34m-\u001b[0m \u001b[0mmath\u001b[0m\u001b[0;34m.\u001b[0m\u001b[0mfloor\u001b[0m\u001b[0;34m(\u001b[0m\u001b[0;34m(\u001b[0m\u001b[0mt_pos\u001b[0m \u001b[0;34m+\u001b[0m \u001b[0;36m1\u001b[0m\u001b[0;34m)\u001b[0m \u001b[0;34m*\u001b[0m \u001b[0;34m(\u001b[0m\u001b[0ms_length\u001b[0m \u001b[0;34m-\u001b[0m \u001b[0;36m1\u001b[0m\u001b[0;34m)\u001b[0m \u001b[0;34m/\u001b[0m \u001b[0mt_length\u001b[0m\u001b[0;34m)\u001b[0m\u001b[0;34m)\u001b[0m\u001b[0;34m\u001b[0m\u001b[0m\n\u001b[1;32m     30\u001b[0m     \u001b[0mmax_jump\u001b[0m \u001b[0;34m=\u001b[0m \u001b[0mint\u001b[0m\u001b[0;34m(\u001b[0m\u001b[0;34m(\u001b[0m\u001b[0mlen\u001b[0m\u001b[0;34m(\u001b[0m\u001b[0mjump_probs\u001b[0m\u001b[0;34m)\u001b[0m \u001b[0;34m-\u001b[0m \u001b[0;36m2\u001b[0m\u001b[0;34m)\u001b[0m\u001b[0;34m/\u001b[0m\u001b[0;36m2\u001b[0m\u001b[0;34m)\u001b[0m\u001b[0;34m\u001b[0m\u001b[0m\n\u001b[0;32m---> 31\u001b[0;31m     \u001b[0mjump_prob_index\u001b[0m \u001b[0;34m=\u001b[0m \u001b[0mjump\u001b[0m \u001b[0;34m+\u001b[0m \u001b[0mmax_jump\u001b[0m\u001b[0;34m\u001b[0m\u001b[0m\n\u001b[0m\u001b[1;32m     32\u001b[0m     \u001b[0;32mif\u001b[0m \u001b[0mjump_prob_index\u001b[0m \u001b[0;34m<\u001b[0m \u001b[0;36m0\u001b[0m\u001b[0;34m:\u001b[0m\u001b[0;34m\u001b[0m\u001b[0m\n\u001b[1;32m     33\u001b[0m         warnings.warn(\n",
      "\u001b[0;31mKeyboardInterrupt\u001b[0m: "
     ]
    }
   ],
   "source": [
    "(training_pairs, validation_pairs, test_pairs) = persistence.get_preprocessed_sentence_pairs()\n",
    "reference_alignments = datasets.validation_alignments()    \n",
    "\n",
    "# training_pairs, _, _ = datasets.example_data_word_order()\n",
    "# validation_pairs = None\n",
    "# reference_alignments = None    \n",
    "\n",
    "AER_scores = {}\n",
    "llhood_scores = {}\n",
    "\n",
    "\n",
    "# Run EM on training data set with AER on validation set\n",
    "# using uniform initialization \n",
    "run_em_with_initialization(\n",
    "    training_pairs, validation_pairs, reference_alignments,\n",
    "    inits.initialize_lprobs_uniform, inits.initialize_jump_probs_uniformly, 'IBM2_uniform')\n",
    "\n",
    "# Run EM on training data set with AER on validation set\n",
    "# using initialization with IBM 1 und uniform jump probabilities\n",
    "run_em_with_initialization(\n",
    "    training_pairs, validation_pairs, reference_alignments,\n",
    "    inits.initialize_lprobs_staged, inits.initialize_jump_probs_uniformly, 'IBM2_staged')\n",
    "\n",
    "# Run EM on training data set with AER on validation set\n",
    "# using random initialization (3x)\n",
    "run_em_with_initialization(\n",
    "    training_pairs, validation_pairs, reference_alignments,\n",
    "    inits.initialize_lprobs_randomly, inits.initialize_jump_probs_randomly, 'IBM2_RR_1')\n",
    "run_em_with_initialization(\n",
    "    training_pairs, validation_pairs, reference_alignments,\n",
    "    inits.initialize_lprobs_randomly, inits.initialize_jump_probs_randomly, 'IBM2_RR_2')\n",
    "run_em_with_initialization(\n",
    "    training_pairs, validation_pairs, reference_alignments,\n",
    "    inits.initialize_lprobs_randomly, inits.initialize_jump_probs_randomly, 'IBM2_RR_3')\n",
    "\n",
    "\n"
   ]
  },
  {
   "cell_type": "markdown",
   "metadata": {},
   "source": [
    "# Step 2:\n",
    "- We read from disk the AER and LL scores for the different initializations\n",
    "- We plot those in a multiple line diagram"
   ]
  },
  {
   "cell_type": "code",
   "execution_count": 10,
   "metadata": {},
   "outputs": [
    {
     "data": {
      "image/png": "[encoded data removed]",
      "text/plain": [
       "<matplotlib.figure.Figure at 0x7fe6311f6978>"
      ]
     },
     "metadata": {},
     "output_type": "display_data"
    },
    {
     "data": {
      "image/png": "[encoded data removed]",
      "text/plain": [
       "<matplotlib.figure.Figure at 0x7fe6311f67f0>"
      ]
     },
     "metadata": {},
     "output_type": "display_data"
    }
   ],
   "source": [
    "def add_plot_data(init_name, label):\n",
    "    fname_ibm2_AERs = fname_ibm2(f'AERs_{init_name}.txt')    \n",
    "    fname_ibm2_llhoods = fname_ibm2(f'llhoods_{init_name}.txt')\n",
    "    AERs = persistence.load(fname_ibm2_AERs)\n",
    "    llhoods = persistence.load(fname_ibm2_llhoods)\n",
    "    AER_lines.append(AERs)\n",
    "    llhood_lines.append(llhoods)\n",
    "    model_names.append(label) \n",
    "    \n",
    "AER_lines = []\n",
    "llhood_lines = []\n",
    "model_names = []\n",
    "for i in [1,2, 3]:\n",
    "    init_name = f'IBM2_RR_{i}'\n",
    "    add_plot_data(init_name, f'random_{i}')\n",
    "add_plot_data('IBM2_uniform', 'uniform')\n",
    "add_plot_data('IBM2_staged', 'staged')\n",
    "\n",
    "plots.figure_AER_multiple_lines(AER_lines, model_names, fname_ibm2('IBM2_inits_AER.png'))\n",
    "plots.figure_llhood_multiple_lines(llhood_lines, model_names, fname_ibm2('IBM2_inits_llhoods.png'))"
   ]
  },
  {
   "cell_type": "markdown",
   "metadata": {},
   "source": [
    "# Step 3:\n",
    "Plot AER and llhood scores for selected models"
   ]
  },
  {
   "cell_type": "code",
   "execution_count": 15,
   "metadata": {},
   "outputs": [
    {
     "data": {
      "text/plain": [
       "{'IBM2_RR_1': 0.23062381852551983,\n",
       " 'IBM2_RR_2': 0.23229461756373937,\n",
       " 'IBM2_RR_3': 0.23796033994334276,\n",
       " 'IBM2_staged': 0.23251417769376181,\n",
       " 'IBM2_uniform': 0.23135033050047216}"
      ]
     },
     "execution_count": 15,
     "metadata": {},
     "output_type": "execute_result"
    },
    {
     "data": {
      "text/plain": [
       "{'IBM2_RR_1': -15716601.415835928,\n",
       " 'IBM2_RR_2': -15717405.185576126,\n",
       " 'IBM2_RR_3': -15721721.55419598,\n",
       " 'IBM2_staged': -15718604.485789482,\n",
       " 'IBM2_uniform': -15702995.067174641}"
      ]
     },
     "execution_count": 15,
     "metadata": {},
     "output_type": "execute_result"
    },
    {
     "name": "stdout",
     "output_type": "stream",
     "text": [
      "For the random models pick the minimal AER score and the maximum llhood score\n"
     ]
    }
   ],
   "source": [
    "AER_scores\n",
    "llhood_scores\n",
    "print('For the random models pick the minimal AER score and the maximum llhood score')"
   ]
  },
  {
   "cell_type": "markdown",
   "metadata": {},
   "source": [
    "# old file names\n",
    "Just some helpers to identify the file names that contains the best AER and LL models for random initialization "
   ]
  },
  {
   "cell_type": "code",
   "execution_count": 13,
   "metadata": {},
   "outputs": [
    {
     "data": {
      "text/plain": [
       "{'IBM2_RR_1': 0.23062381852551983,\n",
       " 'IBM2_RR_2': 0.23229461756373937,\n",
       " 'IBM2_RR_3': 0.23796033994334276,\n",
       " 'IBM2_staged': 0.23251417769376181,\n",
       " 'IBM2_uniform': 0.23135033050047216}"
      ]
     },
     "execution_count": 13,
     "metadata": {},
     "output_type": "execute_result"
    },
    {
     "data": {
      "text/plain": [
       "{'IBM2_RR_1': -15716601.415835928,\n",
       " 'IBM2_RR_2': -15717405.185576126,\n",
       " 'IBM2_RR_3': -15721721.55419598,\n",
       " 'IBM2_staged': -15718604.485789482,\n",
       " 'IBM2_uniform': -15702995.067174641}"
      ]
     },
     "execution_count": 13,
     "metadata": {},
     "output_type": "execute_result"
    }
   ],
   "source": [
    "def fname_best_random_AER():\n",
    "    return\n",
    "\n",
    "def fname_best_random_LL():\n",
    "    return\n"
   ]
  },
  {
   "cell_type": "code",
   "execution_count": null,
   "metadata": {
    "collapsed": true
   },
   "outputs": [],
   "source": [
    "# Helpers for old generated files\n",
    "def fname_best_random_AER():\n",
    "    AER_selected_iterations = [7, 10, 8]\n",
    "    selected_AER_scores = []\n",
    "    for i in range(1,4):\n",
    "        fname_ibm2_AERs = fname_ibm2(f'old/ibm2_AERs_IBM2_rr_{i}.txt')\n",
    "        it_num = AER_selected_iterations[i - 1]\n",
    "        AER_rr = persistence.load(fname_ibm2_AERs)[it_num]\n",
    "        selected_AER_scores.append(AER_rr)\n",
    "    min_AER = min(selected_AER_scores)\n",
    "    rr_index = selected_AER_scores.index(min_AER) + 1\n",
    "    it = AER_selected_iterations[rr_index - 1]\n",
    "    fname = fname_ibm2(f'old/ibm2_IBM2_rr_{rr_index}_AER_{it}.txt')\n",
    "    return fname\n",
    "\n",
    "def fname_best_random_LL():\n",
    "    LL_selected_iterations = [10, 10, 9]\n",
    "    selected_LL_scores = []\n",
    "    for i in range(1,4):\n",
    "        fname_ibm2_LLs = fname_ibm2(f'old/ibm2_llhoods_IBM2_rr_{i}.txt')\n",
    "        it_num = LL_selected_iterations[i - 1]\n",
    "        LL_rr = persistence.load(fname_ibm2_LLs)[it_num]\n",
    "        selected_LL_scores.append(LL_rr)\n",
    "    max_LL = max(selected_LL_scores)\n",
    "    rr_index = selected_LL_scores.index(max_LL) + 1\n",
    "    it = LL_selected_iterations[rr_index - 1]\n",
    "    fname = fname_ibm2(f'old/ibm2_IBM2_rr_{rr_index}_llhood_{it}.txt')\n",
    "    return fname"
   ]
  },
  {
   "cell_type": "markdown",
   "metadata": {},
   "source": [
    "# Step 4\n",
    "Find the filenames of the selected models"
   ]
  },
  {
   "cell_type": "code",
   "execution_count": 51,
   "metadata": {},
   "outputs": [
    {
     "data": {
      "text/plain": [
       "{'params_IBM2_RR_1_AER_7.txt',\n",
       " 'params_IBM2_RR_1_llhood_9.txt',\n",
       " 'params_IBM2_staged_AER_5.txt',\n",
       " 'params_IBM2_staged_llhood_10.txt',\n",
       " 'params_IBM2_uniform_AER_7.txt',\n",
       " 'params_IBM2_uniform_llhood_8.txt'}"
      ]
     },
     "execution_count": 51,
     "metadata": {},
     "output_type": "execute_result"
    }
   ],
   "source": [
    "import os\n",
    "fnames = os.listdir('IBM2_output')\n",
    "mfiles = {fname for fname in fnames if 'params' in fname}\n",
    "\n",
    "# Manually remove random models that were not selected\n",
    "mfiles = mfiles - {\n",
    "    'params_IBM2_RR_2_AER_6.txt',\n",
    "    'params_IBM2_RR_3_AER_9.txt',\n",
    "    'params_IBM2_RR_2_llhood_9.txt',\n",
    "    'params_IBM2_RR_3_llhood_10.txt',    \n",
    "}\n",
    "mfiles"
   ]
  },
  {
   "cell_type": "markdown",
   "metadata": {},
   "source": [
    "# Step 3:\n",
    "Evaluate the model on the test data using the official tool.\n",
    "The result is 1) AER score in terminal 2) file in NAACL format that must be part of the submission\n",
    "(for the best model)"
   ]
  },
  {
   "cell_type": "code",
   "execution_count": null,
   "metadata": {},
   "outputs": [],
   "source": [
    "def evaluate_IBM2_model(test_sentence_pairs, path_to_model, model_name):\n",
    "    (lprobs, jump_probs) = persistence.load_ibm2_model(path_to_model)\n",
    "    alignments = ibm2.align(lprobs, jump_probs, test_sentence_pairs)\n",
    "    evaluate.evaluate_alignments_testset(model_name, alignments)    \n",
    "\n",
    "model_name_AER = 'IBM2_RR_AER'\n",
    "path_to_AER_model = fname_best_random_AER()\n",
    "evaluate_IBM2_model(test_pairs, path_to_AER_model, model_name_AER)\n",
    "\n",
    "model_name_LL = 'IBM2_RR_LL'\n",
    "path_to_LL_model = fname_best_random_LL()\n",
    "evaluate_IBM2_model(test_pairs, path_to_LL_model, model_name_LL)"
   ]
  },
  {
   "cell_type": "code",
   "execution_count": 59,
   "metadata": {},
   "outputs": [
    {
     "name": "stdout",
     "output_type": "stream",
     "text": [
      "File generated: IBM2_staged_AER_5.nonullalign.\n",
      "Look in terminal to check if --IBM2_staged_AER_5.nonullalign-- is in NAACL format...\n",
      "Look in terminal to see AER scores...\n",
      "File generated: IBM2_RR_1_AER_7.nonullalign.\n",
      "Look in terminal to check if --IBM2_RR_1_AER_7.nonullalign-- is in NAACL format...\n",
      "Look in terminal to see AER scores...\n",
      "File generated: IBM2_uniform_llhood_8.nonullalign.\n",
      "Look in terminal to check if --IBM2_uniform_llhood_8.nonullalign-- is in NAACL format...\n",
      "Look in terminal to see AER scores...\n",
      "File generated: IBM2_staged_llhood_10.nonullalign.\n",
      "Look in terminal to check if --IBM2_staged_llhood_10.nonullalign-- is in NAACL format...\n",
      "Look in terminal to see AER scores...\n",
      "File generated: IBM2_RR_1_llhood_9.nonullalign.\n",
      "Look in terminal to check if --IBM2_RR_1_llhood_9.nonullalign-- is in NAACL format...\n",
      "Look in terminal to see AER scores...\n",
      "File generated: IBM2_uniform_AER_7.nonullalign.\n",
      "Look in terminal to check if --IBM2_uniform_AER_7.nonullalign-- is in NAACL format...\n",
      "Look in terminal to see AER scores...\n"
     ]
    }
   ],
   "source": [
    "def evaluate_IBM2_model(test_sentence_pairs, path_to_model, model_name):\n",
    "    (lprobs, jump_probs) = persistence.load_ibm2_model(path_to_model)\n",
    "    alignments = ibm2.align(lprobs, jump_probs, test_sentence_pairs)\n",
    "    evaluate.evaluate_alignments_testset(model_name, alignments)    \n",
    "\n",
    "for mfile in mfiles:\n",
    "    mname = mfile[7:-4]\n",
    "    evaluate_IBM2_model(test_pairs, fname_ibm2(mfile), mname)\n"
   ]
  },
  {
   "cell_type": "code",
   "execution_count": null,
   "metadata": {
    "collapsed": true
   },
   "outputs": [],
   "source": []
  }
 ],
 "metadata": {
  "kernelspec": {
   "display_name": "Python 3",
   "language": "python",
   "name": "python3"
  },
  "language_info": {
   "codemirror_mode": {
    "name": "ipython",
    "version": 3
   },
   "file_extension": ".py",
   "mimetype": "text/x-python",
   "name": "python",
   "nbconvert_exporter": "python",
   "pygments_lexer": "ipython3",
   "version": "3.6.1"
  }
 },
 "nbformat": 4,
 "nbformat_minor": 2
}
