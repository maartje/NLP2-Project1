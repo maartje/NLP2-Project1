{
 "cells": [
  {
   "cell_type": "code",
   "execution_count": 8,
   "metadata": {
    "collapsed": true
   },
   "outputs": [],
   "source": [
    "import math\n",
    "import datasets\n",
    "import debug_helpers\n",
    "import datetime\n",
    "\n",
    "import collections\n",
    "import aer\n",
    "import warnings\n",
    "import numpy as np\n",
    "\n",
    "import persistence\n",
    "import plots\n",
    "\n",
    "# pretty print variabeles on line\n",
    "from IPython.core.interactiveshell import InteractiveShell\n",
    "InteractiveShell.ast_node_interactivity = \"all\""
   ]
  },
  {
   "cell_type": "code",
   "execution_count": 2,
   "metadata": {
    "collapsed": true
   },
   "outputs": [],
   "source": [
    "# returns list with jump probabilities \n",
    "# (and special NULL jump probability)\n",
    "# [-max_jump ....0 ...max_jump, NULL_jump]\n",
    "def _initialize_jump_probs(sentence_pairs):\n",
    "    max_jump = 0\n",
    "    for (s_sentence, t_sentence) in sentence_pairs:\n",
    "        s_length = len(s_sentence) - 1 #ignore NULL\n",
    "        t_length = len(t_sentence)\n",
    "        jump_1 = abs(1 - math.floor(s_length))\n",
    "        jump_2 = abs(s_length - math.floor(s_length/t_length))\n",
    "        max_jump = max(jump_1, jump_2, max_jump)\n",
    "    init_prob = 1. / (2*max_jump + 1 + 1) # last item is special NULL jump prob\n",
    "    return [init_prob] * (2*max_jump + 1 + 1)\n",
    "\n",
    "# returns the index in the jump_probabilities list\n",
    "# for given source and target positions and sentence lengths\n",
    "# s_pos and s_length for source sentence including the special NULL word\n",
    "# sentence positions start at index 0\n",
    "def get_jump_prob_index(s_pos, t_pos, s_length, t_length, jump_probs):\n",
    "    if s_pos == 0:\n",
    "        return len(jump_probs) - 1\n",
    "    jump = int(s_pos - math.floor((t_pos + 1) * (s_length - 1) / t_length))\n",
    "    max_jump = int((len(jump_probs) - 2)/2)\n",
    "    jump_prob_index = jump + max_jump\n",
    "    if jump_prob_index < 0:\n",
    "        warnings.warn(\n",
    "            f'Jump prob index {jump_prob_index} (jump:{jump}) out of range.'\n",
    "        )\n",
    "        return 0 #approximate with prob of largest negative jump\n",
    "    if jump_prob_index >= len(jump_probs) - 1:\n",
    "        warnings.warn(\n",
    "            f'Jump prob index {jump_prob_index} (jump:{jump}) out of range.'\n",
    "        )\n",
    "        return len(jump_probs) - 2 #approximate with prob of largest positive jump\n",
    "\n",
    "    return jump_prob_index\n",
    "\n",
    "# returns jump probability for given source and target positions\n",
    "# and lengths. Positions start at index 0, source sentence contains\n",
    "# special NULL word at position 0\n",
    "def get_jump_prob(s_pos, t_pos, s_length, t_length, jump_probs):\n",
    "    jump_prob_index = get_jump_prob_index(s_pos, t_pos, s_length, t_length, jump_probs)\n",
    "    return jump_probs[jump_prob_index]"
   ]
  },
  {
   "cell_type": "code",
   "execution_count": 3,
   "metadata": {
    "collapsed": true
   },
   "outputs": [],
   "source": [
    "# {Hause: { book:0.25, ...}, ...}\n",
    "# read: the probability of 'book' given 'Haus' is 0.25\n",
    "def _initialize_lexicon_probabilities(source_vocabulary, target_vocabulary):\n",
    "    p_init = 1./len(target_vocabulary)\n",
    "    lexicon_probabilities = collections.defaultdict(\n",
    "        lambda: collections.defaultdict(lambda: p_init))\n",
    "    return lexicon_probabilities"
   ]
  },
  {
   "cell_type": "code",
   "execution_count": 4,
   "metadata": {
    "collapsed": true
   },
   "outputs": [],
   "source": [
    "def source_dependencies(s_sentence, t_word, t_pos, t_length, lprobs, jump_probs):\n",
    "    s_length = len(s_sentence)    \n",
    "    jump_probs = [get_jump_prob(\n",
    "        s_word_pos, t_pos, s_length, t_length, jump_probs\n",
    "    ) for s_word_pos in range(s_length)]\n",
    "    sum_jump_probs = sum(jump_probs)\n",
    "    \n",
    "    return [\n",
    "        (jump_probs[s_pos]/ sum_jump_probs) * lprobs[s_word][t_word] \n",
    "        for s_pos, s_word in enumerate(s_sentence)\n",
    "    ]"
   ]
  },
  {
   "cell_type": "code",
   "execution_count": 5,
   "metadata": {
    "collapsed": true
   },
   "outputs": [],
   "source": [
    "def align(lprobs, jump_probs, sentence_pairs):\n",
    "    if isinstance(sentence_pairs, tuple):\n",
    "        return _align_sentence_pair(lprobs, jump_probs, sentence_pairs)\n",
    "    return [ _align_sentence_pair(lprobs, jump_probs, sentence_pair) for sentence_pair in sentence_pairs ]\n",
    "\n",
    "def _align_sentence_pair(lprobs, jump_probs, sentence_pair):\n",
    "    s_sentence = sentence_pair[0]\n",
    "    t_sentence = sentence_pair[1]\n",
    "    s_length = len(s_sentence)\n",
    "    t_length = len(t_sentence)\n",
    "    best_alignment = set()\n",
    "    for t_pos, t_word in enumerate(t_sentence):\n",
    "        sd = source_dependencies(s_sentence, t_word, t_pos, t_length, lprobs, jump_probs)\n",
    "        (best_align_pos, _) = max(enumerate(sd), key=lambda t: t[1])\n",
    "        if (best_align_pos > 0): # Leave out NULL-alignments (and alignments between unseen words)\n",
    "            best_alignment.add((best_align_pos, t_pos + 1)) # word positions start at 1\n",
    "    return best_alignment"
   ]
  },
  {
   "cell_type": "code",
   "execution_count": 6,
   "metadata": {
    "collapsed": true
   },
   "outputs": [],
   "source": [
    "def EM(s_t_pairs, s_vocabulary, t_vocabulary, max_iterations = 10,\n",
    "        val_sentence_pairs = None, reference_alignments = None, fn_debug = None):\n",
    "    lprobs = _initialize_lexicon_probabilities(s_vocabulary, t_vocabulary)\n",
    "    jump_probs = _initialize_jump_probs(s_t_pairs)\n",
    "#    print('initial jump probs', jump_probs)\n",
    "    i = 0\n",
    "    log_likelihoods = []\n",
    "    AERs = []\n",
    "    while i < max_iterations:\n",
    "        \n",
    "        # initialize\n",
    "        log_likelihood = 0\n",
    "        AER = 0\n",
    "        counts_t_given_s = collections.defaultdict(lambda: collections.defaultdict(int))\n",
    "        total_s = collections.defaultdict(int)\n",
    "        jump_counts = [0]*len(jump_probs)\n",
    "\n",
    "        # calculate counts and log likelihood\n",
    "        for (s_sentence, t_sentence) in s_t_pairs:\n",
    "            s_length = len(s_sentence)\n",
    "            t_length = len(t_sentence)\n",
    "            for t_pos, t_word in enumerate(t_sentence):\n",
    "                prob_counts = source_dependencies(\n",
    "                    s_sentence, t_word, t_pos, t_length, lprobs, jump_probs)\n",
    "                s_total_t = sum(prob_counts)\n",
    "                log_likelihood += math.log(s_total_t)\n",
    "                                \n",
    "                for s_pos, s_word in enumerate(s_sentence):\n",
    "                    update = prob_counts[s_pos]/s_total_t\n",
    "                    counts_t_given_s[s_word][t_word] += update\n",
    "                    total_s[s_word] += update\n",
    "                    jump_count_index = get_jump_prob_index(s_pos, t_pos, s_length, t_length, jump_probs)\n",
    "                    jump_counts[jump_count_index] += update \n",
    "        \n",
    "        # store log_likelihood and AER values\n",
    "        log_likelihoods.append(log_likelihood)\n",
    "        if val_sentence_pairs and reference_alignments:\n",
    "            predicted_alignments = align(lprobs, jump_probs, val_sentence_pairs)\n",
    "            AER = aer.calculate_AER(reference_alignments, predicted_alignments)\n",
    "            AERs.append(AER)\n",
    "\n",
    "        # print debug info\n",
    "        if fn_debug:\n",
    "            fn_debug(i, lprobs, log_likelihood, AER, jump_probs)\n",
    "\n",
    "        # update probabilities\n",
    "        for s in lprobs.keys():\n",
    "            for t in lprobs[s].keys():\n",
    "                lprobs[s][t] = counts_t_given_s[s][t]/total_s[s]\n",
    "        \n",
    "        jump_count_sum = sum(jump_counts)\n",
    "        jump_probs = [jc/jump_count_sum for jc in jump_counts]\n",
    "\n",
    "        # update iteration number\n",
    "        i += 1\n",
    "\n",
    "    # add AER after final update\n",
    "    if val_sentence_pairs and reference_alignments:\n",
    "        predicted_alignments = align(lprobs, jump_probs, val_sentence_pairs)\n",
    "        AER = aer.calculate_AER(reference_alignments, predicted_alignments)\n",
    "        AERs.append(AER)\n",
    "    \n",
    "    # add llhood after final update\n",
    "    log_likelihood = 0\n",
    "    for (s_sentence, t_sentence) in s_t_pairs:\n",
    "        s_length = len(s_sentence)\n",
    "        t_length = len(t_sentence)\n",
    "        for t_pos, t_word in enumerate(t_sentence):\n",
    "            prob_counts = source_dependencies(\n",
    "                s_sentence, t_word, t_pos, t_length, lprobs, jump_probs)\n",
    "            s_total_t = sum(prob_counts)\n",
    "            log_likelihood += math.log(s_total_t)\n",
    "\n",
    "    return lprobs, jump_probs, log_likelihoods, AERs\n"
   ]
  },
  {
   "cell_type": "code",
   "execution_count": 7,
   "metadata": {},
   "outputs": [
    {
     "name": "stdout",
     "output_type": "stream",
     "text": [
      "PASSED!\n"
     ]
    },
    {
     "data": {
      "text/plain": [
       "[(['<NULL>', 'Haus', 'das'], ['the', 'house']),\n",
       " (['<NULL>', 'Buch', 'das'], ['the', 'book']),\n",
       " (['<NULL>', 'Buch', 'ein'], ['a', 'book']),\n",
       " (['<NULL>', 'Maus', 'ein'], ['a', 'mouse']),\n",
       " (['<NULL>', 'Hund', 'das'], ['the', 'dog']),\n",
       " (['<NULL>', 'Welt', 'ein'], ['a', 'world']),\n",
       " (['<NULL>', 'Boot', 'das'], ['the', 'boat']),\n",
       " (['<NULL>', 'Brugge', 'ein'], ['a', 'bridge'])]"
      ]
     },
     "execution_count": 7,
     "metadata": {},
     "output_type": "execute_result"
    },
    {
     "name": "stdout",
     "output_type": "stream",
     "text": [
      "<NULL> the 0.49986849923914406\n",
      "<NULL> house 7.356813242249742e-07\n",
      "<NULL> book 0.0002585874337666559\n",
      "<NULL> a 0.49986849923914406\n",
      "<NULL> mouse 7.356813242249742e-07\n",
      "<NULL> dog 7.356813242249742e-07\n",
      "<NULL> world 7.356813242249742e-07\n",
      "<NULL> boat 7.356813242249742e-07\n",
      "<NULL> bridge 7.356813242249742e-07\n",
      "Haus the 4.7469538197000456e-07\n",
      "Haus house 0.999999525304618\n",
      "das the 0.999999998669036\n",
      "das house 3.9810413054863663e-10\n",
      "das book 1.3665150273143486e-10\n",
      "das dog 3.9810413054863663e-10\n",
      "das boat 3.9810413054863663e-10\n",
      "Buch the 9.415144932164758e-09\n",
      "Buch book 0.9999999811697101\n",
      "Buch a 9.415144932164756e-09\n",
      "ein a 0.9999999986690361\n",
      "ein book 1.3665150273143486e-10\n",
      "ein mouse 3.9810413054863663e-10\n",
      "ein world 3.9810413054863663e-10\n",
      "ein bridge 3.9810413054863663e-10\n",
      "Maus a 4.746953819700045e-07\n",
      "Maus mouse 0.999999525304618\n",
      "Hund the 4.7469538197000456e-07\n",
      "Hund dog 0.999999525304618\n",
      "Welt a 4.746953819700045e-07\n",
      "Welt world 0.999999525304618\n",
      "Boot the 4.7469538197000456e-07\n",
      "Boot boat 0.999999525304618\n",
      "Brugge a 4.746953819700045e-07\n",
      "Brugge bridge 0.999999525304618\n",
      "\n"
     ]
    },
    {
     "data": {
      "text/plain": [
       "[0.49999496375577407,\n",
       " 1.8100451027309263e-07,\n",
       " 0.4808581819113756,\n",
       " 0.019146673328340063]"
      ]
     },
     "execution_count": 7,
     "metadata": {},
     "output_type": "execute_result"
    }
   ],
   "source": [
    "s_t_pairs, s_vocabulary, t_vocabulary = datasets.example_data_word_order()\n",
    "(lprobs, jump_probs, _, _) = EM(s_t_pairs, s_vocabulary, t_vocabulary, \n",
    "                 fn_debug = None) #debug_helpers.print_likelihood debug_helpers.print_lexicon_probs\n",
    "\n",
    "assert(round(lprobs['Haus']['house'], 5) == 1.)\n",
    "assert(round(lprobs['Welt']['world'], 5) == 1.)\n",
    "assert(round(lprobs['das']['the'], 5) == 1.)\n",
    "assert(round(lprobs['<NULL>']['house'], 5) == 0.)\n",
    "assert(round(lprobs['<NULL>']['the'], 5) == 0.49987)\n",
    "\n",
    "assert(round(jump_probs[0], 5) == 0.49999)\n",
    "assert(round(jump_probs[1], 5) == 0.0)\n",
    "assert(round(jump_probs[2], 5) == 0.48086)\n",
    "assert(round(jump_probs[3], 5) == 0.01915)\n",
    "\n",
    "print('PASSED!')\n",
    "\n",
    "s_t_pairs\n",
    "debug_helpers.print_lexicon_probs(None, lprobs, None, None)\n",
    "jump_probs\n",
    "\n"
   ]
  },
  {
   "cell_type": "code",
   "execution_count": null,
   "metadata": {
    "collapsed": true
   },
   "outputs": [],
   "source": [
    "# Run EM on toy example\n",
    "s_t_pairs, s_vocabulary, t_vocabulary = datasets.example_data_null_words()\n",
    "s_t_pairs[0:3]\n",
    "(lprobs, jump_probs, _, _) = EM(s_t_pairs[0:3], s_vocabulary, t_vocabulary, \n",
    "                 fn_debug = debug_helpers.print_likelihood)\n",
    "\n",
    "debug_helpers.print_lexicon_probs(None, lprobs, None, None)\n",
    "jump_probs"
   ]
  },
  {
   "cell_type": "code",
   "execution_count": null,
   "metadata": {},
   "outputs": [],
   "source": [
    "# Run EM on toy example with NULL words\n",
    "val_sentence_pairs = [(\n",
    "    ['<NULL>', 'Buch', 'klein', 'das', 'Haus'], \n",
    "    ['book', 'small', 'the', 'house']\n",
    ")]\n",
    "ref_alignments = [[\n",
    "    {(3, 1), (2, 2), (4, 3), (1, 4)}, \n",
    "    {(3, 1), (2, 2), (4, 3), (1, 4)}\n",
    "]]\n",
    "s_t_pairs, s_vocabulary, t_vocabulary = datasets.example_data_null_words()\n",
    "s_t_pairs\n",
    "(lprobs, jump_probs, _, _) = EM(\n",
    "    s_t_pairs, s_vocabulary, t_vocabulary, 20,\n",
    "    val_sentence_pairs, ref_alignments, debug_helpers.print_likelihood)\n",
    "debug_helpers.print_lexicon_probs(None, lprobs, None, None)\n",
    "jump_probs"
   ]
  },
  {
   "cell_type": "code",
   "execution_count": 9,
   "metadata": {},
   "outputs": [
    {
     "name": "stdout",
     "output_type": "stream",
     "text": [
      "iteration    log_likelihood    AER    time\n",
      "0 -47715574.425 1.00000 11:50\n",
      "1 -22684076.993 0.28077 11:59\n",
      "2 -18085493.286 0.25236 12:07\n",
      "3 -16414971.999 0.24008 12:15\n",
      "4 -15953171.581 0.23440 12:23\n",
      "5 -15816714.535 0.23440 12:32\n",
      "6 -15758568.021 0.23135 12:40\n",
      "7 -15728259.606 0.23324 12:48\n",
      "8 -15710877.500 0.23607 12:56\n",
      "9 -15700093.969 0.23985 01:04\n"
     ]
    },
    {
     "ename": "NameError",
     "evalue": "name 'llhoods' is not defined",
     "output_type": "error",
     "traceback": [
      "\u001b[0;31m---------------------------------------------------------------------------\u001b[0m",
      "\u001b[0;31mNameError\u001b[0m                                 Traceback (most recent call last)",
      "\u001b[0;32m<ipython-input-9-adeb38b881d4>\u001b[0m in \u001b[0;36m<module>\u001b[0;34m()\u001b[0m\n\u001b[1;32m     12\u001b[0m \u001b[0;34m\u001b[0m\u001b[0m\n\u001b[1;32m     13\u001b[0m \u001b[0;31m# plot AER and llhood scores vs iteration\u001b[0m\u001b[0;34m\u001b[0m\u001b[0;34m\u001b[0m\u001b[0m\n\u001b[0;32m---> 14\u001b[0;31m \u001b[0mplots\u001b[0m\u001b[0;34m.\u001b[0m\u001b[0mfigure_log_likelihood\u001b[0m\u001b[0;34m(\u001b[0m\u001b[0mllhoods\u001b[0m\u001b[0;34m,\u001b[0m \u001b[0;34m'IBM1_LOW'\u001b[0m\u001b[0;34m)\u001b[0m\u001b[0;34m\u001b[0m\u001b[0m\n\u001b[0m\u001b[1;32m     15\u001b[0m \u001b[0mplots\u001b[0m\u001b[0;34m.\u001b[0m\u001b[0mfigure_AER\u001b[0m\u001b[0;34m(\u001b[0m\u001b[0mAERs\u001b[0m\u001b[0;34m,\u001b[0m \u001b[0;34m'IBM1_LOW'\u001b[0m\u001b[0;34m)\u001b[0m\u001b[0;34m\u001b[0m\u001b[0m\n\u001b[1;32m     16\u001b[0m \u001b[0;34m\u001b[0m\u001b[0m\n",
      "\u001b[0;31mNameError\u001b[0m: name 'llhoods' is not defined"
     ]
    }
   ],
   "source": [
    "def fname_ibm2(i):\n",
    "    return f'ibm2_iter_{i}.txt'\n",
    "\n",
    "# After each iteration we print llhood and AER and store the model \n",
    "# We can later load the models that meet our convergence criteria\n",
    "# and apply those to the test data\n",
    "def fn_after_iter_ibm2(i, lprobs, log_likelihood, AER, jump_probs):\n",
    "    debug_helpers.print_likelihood(i, lprobs, log_likelihood, AER)\n",
    "    if i == 7 or i == 9: # AER and LLhoods\n",
    "        persistence.save_ibm2_model(lprobs, jump_probs, fname_ibm2(i))\n",
    "\n",
    "# Run EM on training data set with AER on validation set\n",
    "s_t_pairs, s_vocabulary, t_vocabulary = datasets.training_data()\n",
    "val_sentence_pairs = datasets.validation_data(s_vocabulary, t_vocabulary)\n",
    "reference_alignments = datasets.validation_alignments()    \n",
    "\n",
    "(lprobs, jump_probs, llhoods, AERs) = EM(\n",
    "    s_t_pairs, s_vocabulary, t_vocabulary, 15,\n",
    "    val_sentence_pairs, reference_alignments, \n",
    "    debug_helpers.fn_after_iter_ibm2)\n",
    "\n",
    "\n",
    "# plot AER and llhood scores vs iteration\n",
    "plots.figure_log_likelihood(llhoods, 'IBM2')\n",
    "plots.figure_AER(AERs, 'IBM2')\n",
    "\n",
    "# select models based on AER and llhood selection criterion\n",
    "selected_model_AER = fname_ibm2(cc.select_model_AER(AERs))\n",
    "selected_model_llhood = fname_ibm2(cc.select_model_LLhood(llhoods))\n",
    "print('model selected on AER:', selected_model_AER)\n",
    "print('model selected on LLhood:', selected_model_llhood)\n",
    "\n",
    "# store AER and llhood scores in file\n",
    "fname_ibm2_AERs = \"ibm2_AERs_iter15.txt\"    \n",
    "fname_ibm2_llhoods = \"ibm2_llhoods_iter15.txt\"\n",
    "persistence.save(AERs, fname_ibm2_AERs)\n",
    "persistence.save(llhoods, fname_ibm2_llhoods)\n",
    "\n",
    "# store model\n",
    "#persistence.save_ibm2_model(lprobs, jump_probs, fname_ibm2(10))\n"
   ]
  },
  {
   "cell_type": "code",
   "execution_count": 13,
   "metadata": {
    "scrolled": true
   },
   "outputs": [
    {
     "data": {
      "image/png": "[encoded data removed]",
      "text/plain": [
       "<matplotlib.figure.Figure at 0x7f27f04a6e80>"
      ]
     },
     "metadata": {},
     "output_type": "display_data"
    },
    {
     "data": {
      "image/png": "[encoded data removed]",
      "text/plain": [
       "<matplotlib.figure.Figure at 0x7f27f04a6d68>"
      ]
     },
     "metadata": {},
     "output_type": "display_data"
    },
    {
     "name": "stdout",
     "output_type": "stream",
     "text": [
      "model selected on AER: ibm2_iter_7.txt\n",
      "model selected on LLhood: ibm2_iter_9.txt\n"
     ]
    },
    {
     "ename": "NameError",
     "evalue": "name 'scores' is not defined",
     "output_type": "error",
     "traceback": [
      "\u001b[0;31m---------------------------------------------------------------------------\u001b[0m",
      "\u001b[0;31mNameError\u001b[0m                                 Traceback (most recent call last)",
      "\u001b[0;32m<ipython-input-13-668ce5738b19>\u001b[0m in \u001b[0;36m<module>\u001b[0;34m()\u001b[0m\n\u001b[1;32m     19\u001b[0m \u001b[0mfname_ibm2_AERs\u001b[0m \u001b[0;34m=\u001b[0m \u001b[0;34m\"ibm2_AERs_iter10.txt\"\u001b[0m\u001b[0;34m\u001b[0m\u001b[0m\n\u001b[1;32m     20\u001b[0m \u001b[0mfname_ibm2_llhoods\u001b[0m \u001b[0;34m=\u001b[0m \u001b[0;34m\"ibm2_llhoods_iter10.txt\"\u001b[0m\u001b[0;34m\u001b[0m\u001b[0m\n\u001b[0;32m---> 21\u001b[0;31m \u001b[0mpersistence\u001b[0m\u001b[0;34m.\u001b[0m\u001b[0msave\u001b[0m\u001b[0;34m(\u001b[0m\u001b[0mAERs\u001b[0m\u001b[0;34m,\u001b[0m \u001b[0mfname_ibm2_AERs\u001b[0m\u001b[0;34m)\u001b[0m\u001b[0;34m\u001b[0m\u001b[0m\n\u001b[0m\u001b[1;32m     22\u001b[0m \u001b[0mpersistence\u001b[0m\u001b[0;34m.\u001b[0m\u001b[0msave\u001b[0m\u001b[0;34m(\u001b[0m\u001b[0mllhoods\u001b[0m\u001b[0;34m,\u001b[0m \u001b[0mfname_ibm2_llhoods\u001b[0m\u001b[0;34m)\u001b[0m\u001b[0;34m\u001b[0m\u001b[0m\n\u001b[1;32m     23\u001b[0m \u001b[0;34m\u001b[0m\u001b[0m\n",
      "\u001b[0;32m/home/maartje/Documents/UvA-Courses/NLP2/NLP2-Project1/persistence.py\u001b[0m in \u001b[0;36msave\u001b[0;34m(data, fname)\u001b[0m\n\u001b[1;32m     10\u001b[0m \u001b[0;32mdef\u001b[0m \u001b[0msave\u001b[0m\u001b[0;34m(\u001b[0m\u001b[0mdata\u001b[0m\u001b[0;34m,\u001b[0m \u001b[0mfname\u001b[0m\u001b[0;34m)\u001b[0m\u001b[0;34m:\u001b[0m\u001b[0;34m\u001b[0m\u001b[0m\n\u001b[1;32m     11\u001b[0m     \u001b[0;32mwith\u001b[0m \u001b[0mopen\u001b[0m\u001b[0;34m(\u001b[0m\u001b[0mfname\u001b[0m\u001b[0;34m,\u001b[0m \u001b[0;34m\"w\"\u001b[0m\u001b[0;34m)\u001b[0m \u001b[0;32mas\u001b[0m \u001b[0mfile\u001b[0m\u001b[0;34m:\u001b[0m\u001b[0;34m\u001b[0m\u001b[0m\n\u001b[0;32m---> 12\u001b[0;31m         \u001b[0mfile\u001b[0m\u001b[0;34m.\u001b[0m\u001b[0mwrite\u001b[0m\u001b[0;34m(\u001b[0m\u001b[0mstr\u001b[0m\u001b[0;34m(\u001b[0m\u001b[0mscores\u001b[0m\u001b[0;34m)\u001b[0m\u001b[0;34m)\u001b[0m\u001b[0;34m\u001b[0m\u001b[0m\n\u001b[0m\u001b[1;32m     13\u001b[0m \u001b[0;34m\u001b[0m\u001b[0m\n\u001b[1;32m     14\u001b[0m \u001b[0;32mdef\u001b[0m \u001b[0mload\u001b[0m\u001b[0;34m(\u001b[0m\u001b[0mfname\u001b[0m\u001b[0;34m)\u001b[0m\u001b[0;34m:\u001b[0m\u001b[0;34m\u001b[0m\u001b[0m\n",
      "\u001b[0;31mNameError\u001b[0m: name 'scores' is not defined"
     ]
    }
   ],
   "source": [
    "import convergence_criterion as cc\n",
    "\n"
   ]
  },
  {
   "cell_type": "code",
   "execution_count": 20,
   "metadata": {
    "collapsed": true
   },
   "outputs": [],
   "source": [
    "import json\n",
    "def save_ibm2_model(lprobs, jump_probs, fname):\n",
    "    ibm2_model = {\n",
    "        'lprobs' : lprobs, \n",
    "        'jump_probs' : jump_probs\n",
    "    }\n",
    "    json.dump(ibm2_model, open(fname,'w'))\n",
    "\n",
    "def load_ibm2_model(fname):\n",
    "    ibm2_model =  json.load(open(fname))\n",
    "    return (ibm2_model['lprobs'], ibm2_model['jump_probs'])\n"
   ]
  },
  {
   "cell_type": "code",
   "execution_count": 21,
   "metadata": {
    "collapsed": true
   },
   "outputs": [],
   "source": [
    "def save(data, fname):\n",
    "    with open(fname, \"w\") as file:\n",
    "        file.write(str(data))"
   ]
  },
  {
   "cell_type": "code",
   "execution_count": 22,
   "metadata": {},
   "outputs": [],
   "source": [
    "save(AERs, fname_ibm2_AERs)\n",
    "save(llhoods, fname_ibm2_llhoods)\n",
    "\n",
    "# store model\n",
    "save_ibm2_model(lprobs, jump_probs, fname_ibm2(10))\n"
   ]
  },
  {
   "cell_type": "code",
   "execution_count": null,
   "metadata": {
    "collapsed": true
   },
   "outputs": [],
   "source": []
  }
 ],
 "metadata": {
  "kernelspec": {
   "display_name": "Python 3",
   "language": "python",
   "name": "python3"
  },
  "language_info": {
   "codemirror_mode": {
    "name": "ipython",
    "version": 3
   },
   "file_extension": ".py",
   "mimetype": "text/x-python",
   "name": "python",
   "nbconvert_exporter": "python",
   "pygments_lexer": "ipython3",
   "version": "3.6.1"
  }
 },
 "nbformat": 4,
 "nbformat_minor": 2
}
