{
 "cells": [
  {
   "cell_type": "code",
   "execution_count": 1,
   "metadata": {
    "collapsed": true
   },
   "outputs": [],
   "source": [
    "import datasets\n",
    "import debug_helpers\n",
    "import persistence\n",
    "import plots\n",
    "import convergence_criterion as cc\n",
    "import initializations as inits\n",
    "import IBM2 as ibm2\n",
    "\n",
    "\n",
    "# pretty print variabeles on line\n",
    "from IPython.core.interactiveshell import InteractiveShell\n",
    "InteractiveShell.ast_node_interactivity = \"all\""
   ]
  },
  {
   "cell_type": "code",
   "execution_count": 2,
   "metadata": {},
   "outputs": [
    {
     "data": {
      "text/plain": [
       "[(['<NULL>', 'Haus', 'das'], ['the', 'house']),\n",
       " (['<NULL>', 'Buch', 'das'], ['the', 'book']),\n",
       " (['<NULL>', 'Buch', 'ein'], ['a', 'book']),\n",
       " (['<NULL>', 'Maus', 'ein'], ['a', 'mouse']),\n",
       " (['<NULL>', 'Hund', 'das'], ['the', 'dog']),\n",
       " (['<NULL>', 'Welt', 'ein'], ['a', 'world']),\n",
       " (['<NULL>', 'Boot', 'das'], ['the', 'boat']),\n",
       " (['<NULL>', 'Brugge', 'ein'], ['a', 'bridge'])]"
      ]
     },
     "execution_count": 2,
     "metadata": {},
     "output_type": "execute_result"
    },
    {
     "name": "stdout",
     "output_type": "stream",
     "text": [
      "<NULL> the 0.0004847114832307746\n",
      "<NULL> house 6.835033597995697e-10\n",
      "<NULL> book 0.9993478334157265\n",
      "<NULL> a 0.00016745006634285642\n",
      "<NULL> mouse 1.2739011403125033e-09\n",
      "<NULL> dog 8.333672550220575e-10\n",
      "<NULL> world 1.8463507508979209e-09\n",
      "<NULL> boat 3.214375330641175e-10\n",
      "<NULL> bridge 7.61395716209271e-11\n",
      "Haus the 1.0\n",
      "das house 0.2500000000356462\n",
      "das book 0.24999999989306143\n",
      "das dog 0.2500000000356462\n",
      "das boat 0.2500000000356462\n",
      "Buch the 0.4999999999999638\n",
      "Buch a 0.5000000000000362\n",
      "ein book 0.24999999989306143\n",
      "ein mouse 0.2500000000356462\n",
      "ein world 0.2500000000356462\n",
      "ein bridge 0.2500000000356462\n",
      "Maus a 1.0\n",
      "Hund the 1.0\n",
      "Welt a 1.0\n",
      "Boot the 1.0\n",
      "Brugge a 1.0\n",
      "\n"
     ]
    },
    {
     "data": {
      "text/plain": [
       "[0.0, 0.9999999999286611, 0.0, 7.133890905249892e-11]"
      ]
     },
     "execution_count": 2,
     "metadata": {},
     "output_type": "execute_result"
    }
   ],
   "source": [
    "s_t_pairs, _, _ = datasets.example_data_word_order()\n",
    "\n",
    "lprobs_random = inits.initialize_lprobs_randomly(s_t_pairs)\n",
    "jump_probs_random = inits.initialize_jump_probs_randomly(s_t_pairs)\n",
    "\n",
    "(lprobs, jump_probs, _, _) = ibm2.EM(\n",
    "    s_t_pairs, \n",
    "    lprobs_random, \n",
    "    jump_probs_random, \n",
    "    30\n",
    ") \n",
    "\n",
    "s_t_pairs\n",
    "debug_helpers.print_lexicon_probs(None, lprobs, None, None)\n",
    "jump_probs\n",
    "\n"
   ]
  },
  {
   "cell_type": "code",
   "execution_count": 3,
   "metadata": {
    "collapsed": true
   },
   "outputs": [],
   "source": [
    "def fname_ibm2(fname):\n",
    "    return f'IBM2_output/{fname}'\n",
    "\n",
    "# HACK: store converged models during the iteration run\n",
    "converged_models = []\n",
    "def save_selected_models(i, llhood, AER, prev_llhood, prev_AER,\n",
    "                      lprobs, jump_probs, mname):\n",
    "    debug_helpers.print_likelihood(i, [], llhood, AER)\n",
    "    if prev_AER and (f'{mname}_AER' not in converged_models) and cc.has_converged_AER(prev_AER, AER):\n",
    "        persistence.save_ibm2_model(lprobs, jump_probs, fname_ibm2(f'params_{mname}_AER_{i}.txt'))\n",
    "        converged_models.append(f'{mname}_AER')\n",
    "    if prev_llhood and (f'{mname}_LL' not in converged_models) and cc.has_converged_LLhood(prev_llhood, llhood):\n",
    "        persistence.save_ibm2_model(lprobs, jump_probs, fname_ibm2(f'params_{mname}_llhood_{i}.txt'))\n",
    "        converged_models.append(f'{mname}_LL')\n",
    "        \n",
    "def run_em_with_initialization(\n",
    "    s_t_pairs, val_sentence_pairs, reference_alignments,\n",
    "    fn_init, fn_init_jumps, init_name):\n",
    "\n",
    "    lprobs_init = fn_init(s_t_pairs)\n",
    "    jump_probs_init = fn_init_jumps(s_t_pairs)\n",
    "\n",
    "    # EM\n",
    "    (lprobs, jump_probs, llhoods, AERs) = ibm2.EM (\n",
    "        s_t_pairs, \n",
    "        lprobs_init, \n",
    "        jump_probs_init,\n",
    "        15,\n",
    "        val_sentence_pairs, reference_alignments, \n",
    "        save_selected_models, init_name)\n",
    "\n",
    "    # store AER and llhood scores in file\n",
    "    persistence.save(AERs, fname_ibm2(f'AERs_{init_name}.txt'))\n",
    "    persistence.save(llhoods, fname_ibm2(f'llhoods_{init_name}.txt'))\n",
    "\n",
    "    # select models based on AER and llhood selection criterion\n",
    "    selected_model_AER = fname_ibm2(cc.select_model_AER(AERs))\n",
    "    selected_model_llhood = fname_ibm2(cc.select_model_LLhood(llhoods))\n",
    "    print(f'model selected on AER for {init_name}:', selected_model_AER)\n",
    "    print(f'model selected on LLhood for {init_name}:', selected_model_llhood)\n",
    "\n",
    "    # plot AER and llhood scores vs iteration\n",
    "#    plots.figure_log_likelihood(llhoods, fname_ibm2(f'IBM2_{init_name}'))\n",
    "#    plots.figure_AER(AERs, fname_ibm2(f'IBM2_{init_name}'))"
   ]
  },
  {
   "cell_type": "code",
   "execution_count": 6,
   "metadata": {
    "scrolled": true
   },
   "outputs": [
    {
     "name": "stdout",
     "output_type": "stream",
     "text": [
      "iteration    log_likelihood    AER    time\n",
      "0 -21.522 0.00000 11:54\n",
      "1 -18.147 0.00000 11:54\n",
      "2 -16.497 0.00000 11:54\n",
      "3 -15.491 0.00000 11:54\n",
      "4 -14.413 0.00000 11:54\n",
      "5 -13.249 0.00000 11:54\n",
      "6 -12.598 0.00000 11:54\n",
      "7 -12.489 0.00000 11:54\n",
      "8 -12.480 0.00000 11:54\n",
      "9 -12.478 0.00000 11:54\n",
      "10 -12.477 0.00000 11:54\n",
      "11 -12.477 0.00000 11:54\n",
      "12 -12.477 0.00000 11:54\n",
      "13 -12.477 0.00000 11:54\n",
      "14 -12.477 0.00000 11:54\n",
      "model selected on AER for IBM2_RR_1: IBM2_output/None\n",
      "model selected on LLhood for IBM2_RR_1: IBM2_output/8\n",
      "iteration    log_likelihood    AER    time\n",
      "0 -19.878 0.00000 11:54\n",
      "1 -12.149 0.00000 11:54\n",
      "2 -6.219 0.00000 11:54\n",
      "3 -1.832 0.00000 11:54\n",
      "4 -0.492 0.00000 11:54\n",
      "5 -0.229 0.00000 11:54\n",
      "6 -0.115 0.00000 11:54\n",
      "7 -0.058 0.00000 11:54\n",
      "8 -0.029 0.00000 11:54\n",
      "9 -0.014 0.00000 11:54\n",
      "10 -0.007 0.00000 11:54\n",
      "11 -0.004 0.00000 11:54\n",
      "12 -0.002 0.00000 11:54\n",
      "13 -0.001 0.00000 11:54\n",
      "14 -0.000 0.00000 11:54\n",
      "model selected on AER for IBM2_RR_2: IBM2_output/None\n",
      "model selected on LLhood for IBM2_RR_2: IBM2_output/None\n",
      "iteration    log_likelihood    AER    time\n",
      "0 -27.214 0.00000 11:54\n",
      "1 -20.201 0.00000 11:54\n",
      "2 -18.052 0.00000 11:54\n",
      "3 -17.061 0.00000 11:54\n",
      "4 -16.677 0.00000 11:54\n",
      "5 -16.507 0.00000 11:54\n",
      "6 -16.389 0.00000 11:54\n",
      "7 -16.254 0.00000 11:54\n",
      "8 -16.058 0.00000 11:54\n",
      "9 -15.747 0.00000 11:54\n",
      "10 -15.251 0.00000 11:54\n",
      "11 -14.487 0.00000 11:54\n",
      "12 -13.427 0.00000 11:54\n",
      "13 -12.285 0.00000 11:54\n",
      "14 -11.506 0.00000 11:54\n",
      "model selected on AER for IBM2_RR_3: IBM2_output/None\n",
      "model selected on LLhood for IBM2_RR_3: IBM2_output/None\n",
      "iteration    log_likelihood    AER    time\n",
      "0 -21.847 0.00000 11:54\n",
      "1 -18.498 0.00000 11:54\n",
      "2 -17.347 0.00000 11:54\n",
      "3 -16.878 0.00000 11:54\n",
      "4 -16.722 0.00000 11:54\n",
      "5 -16.703 0.00000 11:54\n",
      "6 -16.755 0.00000 11:54\n",
      "7 -16.840 0.00000 11:54\n",
      "8 -16.855 0.00000 11:54\n",
      "9 -16.560 0.00000 11:54\n",
      "10 -15.919 0.00000 11:54\n",
      "11 -15.379 0.00000 11:54\n",
      "12 -14.696 0.00000 11:54\n",
      "13 -13.649 0.00000 11:54\n",
      "14 -12.759 0.00000 11:54\n",
      "model selected on AER for IBM2_uniform: IBM2_output/None\n",
      "model selected on LLhood for IBM2_uniform: IBM2_output/8\n"
     ]
    }
   ],
   "source": [
    "# s_t_pairs, s_vocabulary, t_vocabulary = datasets.training_data()\n",
    "# val_sentence_pairs = datasets.validation_data(s_vocabulary, t_vocabulary)\n",
    "# reference_alignments = datasets.validation_alignments()    \n",
    "\n",
    "s_t_pairs, s_vocabulary, t_vocabulary = datasets.example_data_word_order()\n",
    "val_sentence_pairs = None\n",
    "reference_alignments = None    \n",
    "\n",
    "converged_models = []\n",
    "\n",
    "# Run EM on training data set with AER on validation set\n",
    "# using random initialization (3x)\n",
    "run_em_with_initialization(\n",
    "    s_t_pairs, val_sentence_pairs, reference_alignments,\n",
    "    inits.initialize_lprobs_randomly, inits.initialize_jump_probs_randomly, 'IBM2_RR_1')\n",
    "run_em_with_initialization(\n",
    "    s_t_pairs, val_sentence_pairs, reference_alignments,\n",
    "    inits.initialize_lprobs_randomly, inits.initialize_jump_probs_randomly, 'IBM2_RR_2')\n",
    "run_em_with_initialization(\n",
    "    s_t_pairs, val_sentence_pairs, reference_alignments,\n",
    "    inits.initialize_lprobs_randomly, inits.initialize_jump_probs_randomly, 'IBM2_RR_3')\n",
    "\n",
    "# Run EM on training data set with AER on validation set\n",
    "# using uniform initialization \n",
    "run_em_with_initialization(\n",
    "    s_t_pairs, val_sentence_pairs, reference_alignments,\n",
    "    inits.initialize_lprobs_uniform, inits.initialize_jump_probs_uniformly, 'IBM2_uniform')\n",
    "\n",
    "# Run EM on training data set with AER on validation set\n",
    "# using initialization with IBM 1 und uniform jump probabilities\n",
    "# run_em_with_initialization(\n",
    "#     s_t_pairs, val_sentence_pairs, reference_alignments,\n",
    "#     inits.initialize_lprobs_staged, inits.initialize_jump_probs_uniformly, 'IBM2_staged')\n",
    "\n",
    "\n",
    "\n"
   ]
  },
  {
   "cell_type": "code",
   "execution_count": null,
   "metadata": {},
   "outputs": [],
   "source": [
    "converged_models\n"
   ]
  },
  {
   "cell_type": "code",
   "execution_count": 10,
   "metadata": {},
   "outputs": [
    {
     "data": {
      "image/png": "[encoded data removed]",
      "text/plain": [
       "<matplotlib.figure.Figure at 0x7f5f4937fd68>"
      ]
     },
     "metadata": {},
     "output_type": "display_data"
    },
    {
     "data": {
      "image/png": "[encoded data removed]",
      "text/plain": [
       "<matplotlib.figure.Figure at 0x7f5f19b5ae48>"
      ]
     },
     "metadata": {},
     "output_type": "display_data"
    }
   ],
   "source": [
    "def add_plot_data(init_name, label):\n",
    "    fname_ibm2_AERs = fname_ibm2(f'AERs_{init_name}.txt')    \n",
    "    fname_ibm2_llhoods = fname_ibm2(f'llhoods_{init_name}.txt')\n",
    "    AERs = persistence.load(fname_ibm2_AERs)\n",
    "    llhoods = persistence.load(fname_ibm2_llhoods)\n",
    "    AER_lines.append(AERs)\n",
    "    llhood_lines.append(llhoods)\n",
    "    model_names.append(label) \n",
    "    \n",
    "AER_lines = []\n",
    "llhood_lines = []\n",
    "model_names = []\n",
    "for i in [1,2,3]:\n",
    "    init_name = f'IBM2_RR_{i}'\n",
    "    add_plot_data(init_name, f'random_{i}')\n",
    "add_plot_data('IBM2_uniform', 'uniform')\n",
    "#add_plot_data('IBM2_staged')\n",
    "\n",
    "plots.figure_AER_multiple_lines(AER_lines, model_names, fname_ibm2('IBM2_inits_AER.png'))\n",
    "plots.figure_llhood_multiple_lines(llhood_lines, model_names, fname_ibm2('IBM2_inits_llhoods.png'))"
   ]
  },
  {
   "cell_type": "code",
   "execution_count": null,
   "metadata": {
    "collapsed": true
   },
   "outputs": [],
   "source": []
  }
 ],
 "metadata": {
  "kernelspec": {
   "display_name": "Python 3",
   "language": "python",
   "name": "python3"
  },
  "language_info": {
   "codemirror_mode": {
    "name": "ipython",
    "version": 3
   },
   "file_extension": ".py",
   "mimetype": "text/x-python",
   "name": "python",
   "nbconvert_exporter": "python",
   "pygments_lexer": "ipython3",
   "version": "3.6.1"
  }
 },
 "nbformat": 4,
 "nbformat_minor": 2
}
