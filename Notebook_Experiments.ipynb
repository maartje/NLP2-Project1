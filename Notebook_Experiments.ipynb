{
 "cells": [
  {
   "cell_type": "code",
   "execution_count": 1,
   "metadata": {
    "collapsed": true
   },
   "outputs": [],
   "source": [
    "import math\n",
    "import datasets\n",
    "import IBM1 as ibm1\n",
    "import debug_helpers\n",
    "\n",
    "# pretty print variabeles on line\n",
    "from IPython.core.interactiveshell import InteractiveShell\n",
    "InteractiveShell.ast_node_interactivity = \"all\""
   ]
  },
  {
   "cell_type": "code",
   "execution_count": null,
   "metadata": {
    "collapsed": true
   },
   "outputs": [],
   "source": [
    "(lprobs, log_lhoods, AERs) = IBM1_Train()\n",
    "figure_log_likelihood(log_lhoods, 'IBM 1')\n",
    "figure_AER(AERs, 'IBM 1')"
   ]
  },
  {
   "cell_type": "code",
   "execution_count": null,
   "metadata": {
    "collapsed": true
   },
   "outputs": [],
   "source": [
    "# Run EM on training data set with AER on validation set\n",
    "def IBM1_Train():\n",
    "    val_sentence_pairs, _, _ = datasets.validation_data()\n",
    "    reference_alignments = datasets.validation_alignments()    \n",
    "    s_t_pairs, s_vocabulary, t_vocabulary = datasets.training_data()\n",
    "    (lprobs, log_lhoods, AERs) = ibm1.EM(\n",
    "        s_t_pairs, s_vocabulary, t_vocabulary, 30,\n",
    "        val_sentence_pairs, reference_alignments, \n",
    "        debug_helpers.print_likelihood\n",
    "    ) \n",
    "    return (lprobs, log_lhoods, AERs)\n",
    "\n",
    "# TODO: save probs to file for selected models"
   ]
  },
  {
   "cell_type": "code",
   "execution_count": 38,
   "metadata": {
    "collapsed": true
   },
   "outputs": [],
   "source": [
    "import matplotlib.pyplot as plt\n",
    "\n",
    "# save figure training log likelihood vs iteration\n",
    "def figure_log_likelihood(log_lhoods, model_name):\n",
    "    _ = plt.plot(log_lhoods)\n",
    "    _ = plt.ylabel('log likelihood')\n",
    "    _ = plt.xlabel('iteration')\n",
    "    _ = plt.title(f'{model_name}: training log likelihood', y=0.87, fontweight = 'bold')\n",
    "    _ = plt.savefig(f'{model_name}_loglhood.png')\n",
    "    _ = plt.show()\n",
    "    \n",
    "# save figure validation AER vs iteration\n",
    "def figure_AER(AERs, model_name):\n",
    "    _ = plt.plot(AERs)\n",
    "    _ = plt.ylabel('AER')\n",
    "    _ = plt.xlabel('iteration')\n",
    "    _ = plt.title(f'{model_name}: validation AER', y=0.87, fontweight = 'bold')\n",
    "    _ = plt.savefig(f'{model_name}_AER.png')\n",
    "    _ = plt.show()"
   ]
  },
  {
   "cell_type": "code",
   "execution_count": null,
   "metadata": {
    "collapsed": true
   },
   "outputs": [],
   "source": []
  }
 ],
 "metadata": {
  "kernelspec": {
   "display_name": "Python 3",
   "language": "python",
   "name": "python3"
  },
  "language_info": {
   "codemirror_mode": {
    "name": "ipython",
    "version": 3
   },
   "file_extension": ".py",
   "mimetype": "text/x-python",
   "name": "python",
   "nbconvert_exporter": "python",
   "pygments_lexer": "ipython3",
   "version": "3.6.1"
  }
 },
 "nbformat": 4,
 "nbformat_minor": 2
}
