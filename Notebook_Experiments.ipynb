{
 "cells": [
  {
   "cell_type": "code",
   "execution_count": 1,
   "metadata": {
    "collapsed": true
   },
   "outputs": [],
   "source": [
    "import math\n",
    "import datasets\n",
    "import IBM1 as ibm1\n",
    "import debug_helpers\n",
    "import convergence_criterion as cc\n",
    "import persistence\n",
    "import plots\n",
    "\n",
    "# pretty print variabeles on line\n",
    "from IPython.core.interactiveshell import InteractiveShell\n",
    "InteractiveShell.ast_node_interactivity = \"all\""
   ]
  },
  {
   "cell_type": "code",
   "execution_count": 2,
   "metadata": {
    "collapsed": true
   },
   "outputs": [],
   "source": [
    "def fname_ibm1(i):\n",
    "    return f'ibm1_iter_{i}.txt'\n",
    "\n",
    "# After each iteration we print llhood and AER and store the model \n",
    "# We can later load the models that meet our convergence criteria\n",
    "# and apply those to the test data\n",
    "def fn_after_iter_ibm1(i, lprobs, log_likelihood, AER):\n",
    "    debug_helpers.print_likelihood(i, lprobs, log_likelihood, AER)\n",
    "    if i > 0:\n",
    "        persistence.store_ibm1_model(lprobs, fname_ibm1(i))\n",
    "        \n",
    "# Run EM on training data set with AER on validation set\n",
    "def IBM1_Train():\n",
    "    val_sentence_pairs, _, _ = datasets.validation_data()\n",
    "    reference_alignments = datasets.validation_alignments()    \n",
    "    s_t_pairs, s_vocabulary, t_vocabulary = datasets.training_data()\n",
    "    (lprobs, log_lhoods, AERs) = ibm1.EM(\n",
    "        s_t_pairs, s_vocabulary, t_vocabulary, 16,\n",
    "        val_sentence_pairs, reference_alignments, \n",
    "        fn_after_iter_ibm1\n",
    "    ) \n",
    "    return (lprobs, log_lhoods, AERs)"
   ]
  },
  {
   "cell_type": "code",
   "execution_count": null,
   "metadata": {},
   "outputs": [],
   "source": [
    "(lprobs, llhoods, AERs) = IBM1_Train()\n",
    "plots.figure_log_likelihood(llhoods, 'IBM 1')\n",
    "plots.figure_AER(AERs, 'IBM 1')\n",
    "\n",
    "selected_model_AER = fname_ibm1(cc.select_model_AER(AERs))\n",
    "selected_model_llhood = fname_ibm1(cc.select_model_LLhood(llhoods))\n",
    "print('model selected on AER:', selected_model_AER)\n",
    "print('model selected on LLhood:', selected_model_llhood)\n",
    "\n",
    "# AER_model = persistence.load_ibm1_model(selected_model_AER)\n",
    "# llhood_model = persistence.load_ibm1_model(selected_model_llhood)\n",
    "# TODO: apply selected models to test set \n",
    "# (write NAACL and use official tool)"
   ]
  },
  {
   "cell_type": "code",
   "execution_count": null,
   "metadata": {
    "collapsed": true
   },
   "outputs": [],
   "source": []
  }
 ],
 "metadata": {
  "kernelspec": {
   "display_name": "Python 3",
   "language": "python",
   "name": "python3"
  },
  "language_info": {
   "codemirror_mode": {
    "name": "ipython",
    "version": 3
   },
   "file_extension": ".py",
   "mimetype": "text/x-python",
   "name": "python",
   "nbconvert_exporter": "python",
   "pygments_lexer": "ipython3",
   "version": "3.6.1"
  }
 },
 "nbformat": 4,
 "nbformat_minor": 2
}
