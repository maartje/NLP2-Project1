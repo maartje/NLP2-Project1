{
 "cells": [
  {
   "cell_type": "code",
   "execution_count": 1,
   "metadata": {
    "collapsed": true
   },
   "outputs": [],
   "source": [
    "import math\n",
    "import datasets\n",
    "import IBM1 as ibm1\n",
    "import debug_helpers\n",
    "import convergence_criterion as cc\n",
    "import persistence\n",
    "import plots\n",
    "\n",
    "# pretty print variabeles on line\n",
    "from IPython.core.interactiveshell import InteractiveShell\n",
    "InteractiveShell.ast_node_interactivity = \"all\""
   ]
  },
  {
   "cell_type": "code",
   "execution_count": 2,
   "metadata": {
    "collapsed": true
   },
   "outputs": [],
   "source": [
    "def fname_ibm1(i):\n",
    "    return f'ibm1_iter_{i}.txt'\n",
    "\n",
    "# After each iteration we print llhood and AER and store the model \n",
    "# We can later load the models that meet our convergence criteria\n",
    "# and apply those to the test data\n",
    "def fn_after_iter_ibm1(i, lprobs, log_likelihood, AER):\n",
    "    debug_helpers.print_likelihood(i, lprobs, log_likelihood, AER)\n",
    "    if i > 0:\n",
    "        persistence.store_ibm1_model(lprobs, fname_ibm1(i))\n",
    "        \n",
    "# Run EM on training data set with AER on validation set\n",
    "def IBM1_Train():\n",
    "    val_sentence_pairs, _, _ = datasets.validation_data()\n",
    "    reference_alignments = datasets.validation_alignments()    \n",
    "    s_t_pairs, s_vocabulary, t_vocabulary = datasets.training_data()\n",
    "    (lprobs, log_lhoods, AERs) = ibm1.EM(\n",
    "        s_t_pairs, s_vocabulary, t_vocabulary, 16,\n",
    "        val_sentence_pairs, reference_alignments, \n",
    "        fn_after_iter_ibm1\n",
    "    ) \n",
    "    return (lprobs, log_lhoods, AERs)"
   ]
  },
  {
   "cell_type": "code",
   "execution_count": 3,
   "metadata": {},
   "outputs": [
    {
     "name": "stdout",
     "output_type": "stream",
     "text": [
      "iteration  log_likelihood  likelihood  AER\n",
      "0 -49501757.944 0.000 0.92877\n",
      "1 -23049255.979 0.000 0.37678\n",
      "2 -20068293.662 0.000 0.33749\n",
      "3 -19158460.369 0.000 0.32981\n",
      "4 -18847504.740 0.000 0.32852\n",
      "5 -18708427.693 0.000 0.33044\n",
      "6 -18634922.009 0.000 0.33237\n",
      "7 -18591665.966 0.000 0.32915\n",
      "8 -18564213.156 0.000 0.32787\n",
      "9 -18545753.893 0.000 0.32755\n",
      "10 -18532757.373 0.000 0.32177\n",
      "11 -18523256.772 0.000 0.32177\n",
      "12 -18516096.873 0.000 0.32081\n",
      "13 -18510564.528 0.000 0.31717\n",
      "14 -18506200.202 0.000 0.31814\n",
      "15 -18502696.291 0.000 0.32008\n"
     ]
    },
    {
     "data": {
      "image/png": "[encoded data removed]",
      "text/plain": [
       "<matplotlib.figure.Figure at 0x7fc72d2f6e80>"
      ]
     },
     "metadata": {},
     "output_type": "display_data"
    },
    {
     "data": {
      "image/png": "[encoded data removed]",
      "text/plain": [
       "<matplotlib.figure.Figure at 0x7fc7040bbf60>"
      ]
     },
     "metadata": {},
     "output_type": "display_data"
    },
    {
     "name": "stdout",
     "output_type": "stream",
     "text": [
      "model selected on AER: ibm1_iter_5.txt\n",
      "model selected on LLhood: ibm1_iter_5.txt\n"
     ]
    }
   ],
   "source": [
    "# train model\n",
    "(lprobs, llhoods, AERs) = IBM1_Train()\n",
    "\n",
    "# store AER and llhood scores in file\n",
    "fname_ibm1_AERs = \"ibm1_AERs_iter15.txt\"    \n",
    "fname_ibm1_llhoods = \"ibm1_llhoods_iter15.txt\"\n",
    "persistence.store_iteration_results(AERs, fname_ibm1_AERs)\n",
    "persistence.store_iteration_results(llhoods, fname_ibm1_llhoods)\n",
    "\n",
    "# plot AER and llhood scores vs iteration\n",
    "plots.figure_log_likelihood(llhoods, 'IBM1')\n",
    "plots.figure_AER(AERs, 'IBM1')\n",
    "\n",
    "# select models based on AER and llhood selection criterion\n",
    "selected_model_AER = fname_ibm1(cc.select_model_AER(AERs))\n",
    "selected_model_llhood = fname_ibm1(cc.select_model_LLhood(llhoods))\n",
    "print('model selected on AER:', selected_model_AER)\n",
    "print('model selected on LLhood:', selected_model_llhood)\n"
   ]
  },
  {
   "cell_type": "code",
   "execution_count": 14,
   "metadata": {},
   "outputs": [],
   "source": [
    "# AER_model = persistence.load_ibm1_model(selected_model_AER)\n",
    "# llhood_model = persistence.load_ibm1_model(selected_model_llhood)\n",
    "# TODO: apply selected models to test set \n",
    "# (write NAACL and use official tool)\n",
    "\n",
    "#load_iteration_results(fname_ibm1_AERs)\n",
    "#load_iteration_results(fname_ibm1_llhoods)"
   ]
  },
  {
   "cell_type": "code",
   "execution_count": null,
   "metadata": {
    "collapsed": true
   },
   "outputs": [],
   "source": []
  }
 ],
 "metadata": {
  "kernelspec": {
   "display_name": "Python 3",
   "language": "python",
   "name": "python3"
  },
  "language_info": {
   "codemirror_mode": {
    "name": "ipython",
    "version": 3
   },
   "file_extension": ".py",
   "mimetype": "text/x-python",
   "name": "python",
   "nbconvert_exporter": "python",
   "pygments_lexer": "ipython3",
   "version": "3.6.1"
  }
 },
 "nbformat": 4,
 "nbformat_minor": 2
}
