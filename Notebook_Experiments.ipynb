{
 "cells": [
  {
   "cell_type": "code",
   "execution_count": 1,
   "metadata": {
    "collapsed": true
   },
   "outputs": [],
   "source": [
    "import math\n",
    "import datasets\n",
    "import IBM1 as ibm1\n",
    "import debug_helpers\n",
    "import convergence_criterion as cc\n",
    "import persistence\n",
    "import plots\n",
    "import evaluate\n",
    "\n",
    "# pretty print variabeles on line\n",
    "from IPython.core.interactiveshell import InteractiveShell\n",
    "InteractiveShell.ast_node_interactivity = \"all\""
   ]
  },
  {
   "cell_type": "code",
   "execution_count": 12,
   "metadata": {
    "collapsed": true
   },
   "outputs": [],
   "source": [
    "def fname_ibm1(fname):\n",
    "    return f'IBM1_output/{fname}'\n",
    "\n",
    "# HACK: store converged models during the iteration run\n",
    "AER_scores = {}\n",
    "llhood_scores = {}\n",
    "def save_selected_models(i, llhood, AER, prev_llhood, prev_AER, lprobs):\n",
    "    mname = 'IBM1'\n",
    "    debug_helpers.print_likelihood(i, [], llhood, AER)\n",
    "    if prev_AER and (mname not in AER_scores) and cc.has_converged_AER(prev_AER, AER):\n",
    "        persistence.save_ibm1_model(lprobs, fname_ibm1(f'params_AER_{i}.txt'))\n",
    "        AER_scores[mname] = AER\n",
    "    if prev_llhood and (mname not in llhood_scores) and cc.has_converged_LLhood(prev_llhood, llhood):\n",
    "        persistence.save_ibm1_model(lprobs, fname_ibm1(f'params_llhood_{i}.txt'))\n",
    "        llhood_scores[mname] = llhood\n",
    "\n",
    "def run_em_with_initialization(\n",
    "    s_t_pairs, val_sentence_pairs, reference_alignments):\n",
    "\n",
    "    # EM\n",
    "    (lprobs, llhoods, AERs) = ibm1.EM(\n",
    "        s_t_pairs, 16,\n",
    "        val_sentence_pairs, reference_alignments, \n",
    "        save_selected_models\n",
    "    ) \n",
    "    \n",
    "    # store AER and llhood scores in file\n",
    "    persistence.save(AERs, fname_ibm1(f'AERs.txt'))\n",
    "    persistence.save(llhoods, fname_ibm1(f'llhoods.txt'))\n",
    "\n",
    "    # select models based on AER and llhood selection criterion\n",
    "    selected_model_AER = fname_ibm1(cc.select_model_AER(AERs))\n",
    "    selected_model_llhood = fname_ibm1(cc.select_model_LLhood(llhoods))\n",
    "    print(f'model selected on AER:', selected_model_AER)\n",
    "    print(f'model selected on LLhood:', selected_model_llhood)\n",
    "        "
   ]
  },
  {
   "cell_type": "code",
   "execution_count": 13,
   "metadata": {},
   "outputs": [
    {
     "name": "stdout",
     "output_type": "stream",
     "text": [
      "iteration    log_likelihood    AER    time\n",
      "0 -21.847 0.00000 08:50\n",
      "1 -19.045 0.00000 08:50\n",
      "2 -17.119 0.00000 08:50\n",
      "3 -15.838 0.00000 08:50\n",
      "4 -15.115 0.00000 08:50\n",
      "5 -14.742 0.00000 08:50\n",
      "6 -14.556 0.00000 08:50\n",
      "7 -14.461 0.00000 08:50\n",
      "8 -14.411 0.00000 08:50\n",
      "9 -14.383 0.00000 08:50\n",
      "10 -14.366 0.00000 08:50\n",
      "11 -14.356 0.00000 08:50\n",
      "12 -14.349 0.00000 08:50\n",
      "13 -14.344 0.00000 08:50\n",
      "14 -14.341 0.00000 08:50\n",
      "15 -14.339 0.00000 08:50\n",
      "model selected on AER: IBM1_output/None\n",
      "model selected on LLhood: IBM1_output/11\n"
     ]
    }
   ],
   "source": [
    "# train model\n",
    "# (training_pairs, validation_pairs, test_pairs) = persistence.get_preprocessed_sentence_pairs()\n",
    "# reference_alignments = datasets.validation_alignments()    \n",
    "\n",
    "training_pairs, _, _ = datasets.example_data_word_order()\n",
    "validation_pairs = None\n",
    "reference_alignments = None    \n",
    "\n",
    "AER_scores = {}\n",
    "llhood_scores = {}\n",
    "\n",
    "run_em_with_initialization(\n",
    "    training_pairs, validation_pairs, reference_alignments)\n",
    "\n"
   ]
  },
  {
   "cell_type": "code",
   "execution_count": 14,
   "metadata": {},
   "outputs": [
    {
     "data": {
      "image/png": "[encoded data removed]",
      "text/plain": [
       "<matplotlib.figure.Figure at 0x7fe2a2ad9898>"
      ]
     },
     "metadata": {},
     "output_type": "display_data"
    },
    {
     "data": {
      "image/png": "[encoded data removed]",
      "text/plain": [
       "<matplotlib.figure.Figure at 0x7fe2a0897a90>"
      ]
     },
     "metadata": {},
     "output_type": "display_data"
    }
   ],
   "source": [
    "# plot AER and llhood scores vs iteration\n",
    "llhoods = persistence.load(fname_ibm1(f'llhoods.txt'))\n",
    "AERs = persistence.load(fname_ibm1('AERs.txt'))\n",
    "plots.figure_log_likelihood(llhoods, fname_ibm1('IBM1_LL.png'))\n",
    "plots.figure_AER(AERs, fname_ibm1('IBM1_AER.png'))\n"
   ]
  },
  {
   "cell_type": "code",
   "execution_count": null,
   "metadata": {
    "collapsed": true
   },
   "outputs": [],
   "source": [
    "def evaluate_IBM1_model(test_sentence_pairs, path_to_model, model_name):\n",
    "    lprobs = persistence.load_ibm1_model(path_to_model)\n",
    "    alignments = ibm1.align(lprobs, test_sentence_pairs)\n",
    "    evaluate.evaluate_alignments_testset(model_name, alignments)    \n",
    "\n",
    "model_name_AER = 'IBM1_AER'\n",
    "path_to_AER_model = f'params_AER_{i}.txt'\n",
    "evaluate_IBM1_model(test_pairs, path_to_AER_model, 'IBM1_AER')\n",
    "\n",
    "model_name_LL = 'IBM1_LL'\n",
    "path_to_LL_model = f'params_llhood_{j}.txt'\n",
    "evaluate_IBM1_model(test_pairs, path_to_LL_model, 'IBM1_LL')"
   ]
  },
  {
   "cell_type": "code",
   "execution_count": null,
   "metadata": {
    "collapsed": true
   },
   "outputs": [],
   "source": [
    "\n",
    "\n"
   ]
  }
 ],
 "metadata": {
  "kernelspec": {
   "display_name": "Python 3",
   "language": "python",
   "name": "python3"
  },
  "language_info": {
   "codemirror_mode": {
    "name": "ipython",
    "version": 3
   },
   "file_extension": ".py",
   "mimetype": "text/x-python",
   "name": "python",
   "nbconvert_exporter": "python",
   "pygments_lexer": "ipython3",
   "version": "3.6.1"
  }
 },
 "nbformat": 4,
 "nbformat_minor": 2
}
