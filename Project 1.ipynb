{
 "cells": [
  {
   "cell_type": "code",
   "execution_count": 1,
   "metadata": {},
   "outputs": [],
   "source": [
    "import math\n",
    "import datasets\n",
    "import IBM1 as ibm1\n",
    "import aer\n",
    "from align import align\n",
    "\n",
    "# pretty print variabeles on line\n",
    "from IPython.core.interactiveshell import InteractiveShell\n",
    "InteractiveShell.ast_node_interactivity = \"all\""
   ]
  },
  {
   "cell_type": "code",
   "execution_count": 2,
   "metadata": {
    "collapsed": true
   },
   "outputs": [],
   "source": [
    "# Some helper functions to print useful information after each \n",
    "# EM iteration\n",
    "\n",
    "def print_likelihood(i, lprobs, log_likelihood):\n",
    "    likelihood = math.exp(log_likelihood)\n",
    "    if i == 1:\n",
    "        print('iteration  log_likelihood  likelihood')\n",
    "    print(f'{i} {log_likelihood:.3f} {likelihood:.3f}')\n",
    "\n",
    "def print_lexicon_probs(i, lprobs, log_likelihood):\n",
    "    for s in lprobs.keys():\n",
    "        for t in lprobs[s].keys():\n",
    "            if lprobs[s][t] > 0:\n",
    "                print (s, t, lprobs[s][t])\n",
    "    print()"
   ]
  },
  {
   "cell_type": "code",
   "execution_count": 12,
   "metadata": {},
   "outputs": [
    {
     "data": {
      "text/plain": [
       "[(['das', 'Haus'], ['the', 'house']),\n",
       " (['das', 'Buch'], ['the', 'book']),\n",
       " (['ein', 'Buch'], ['a', 'book'])]"
      ]
     },
     "execution_count": 12,
     "metadata": {},
     "output_type": "execute_result"
    },
    {
     "name": "stdout",
     "output_type": "stream",
     "text": [
      "iteration  log_likelihood  likelihood\n",
      "1 -4.159 0.016\n",
      "2 -1.151 0.316\n",
      "3 -0.842 0.431\n",
      "4 -0.586 0.557\n",
      "5 -0.390 0.677\n",
      "6 -0.252 0.777\n",
      "7 -0.159 0.853\n",
      "8 -0.100 0.905\n",
      "9 -0.062 0.940\n",
      "10 -0.039 0.961\n",
      "11 -0.025 0.975\n",
      "12 -0.017 0.983\n",
      "13 -0.012 0.989\n",
      "14 -0.008 0.992\n",
      "15 -0.006 0.994\n",
      "16 -0.005 0.995\n",
      "17 -0.004 0.996\n",
      "18 -0.003 0.997\n",
      "19 -0.003 0.997\n",
      "20 -0.002 0.998\n"
     ]
    },
    {
     "data": {
      "text/plain": [
       "defaultdict(<function IBM1._initialize_lexicon_probabilities.<locals>.<lambda>>,\n",
       "            {'Buch': defaultdict(<function IBM1._initialize_lexicon_probabilities.<locals>.<lambda>.<locals>.<lambda>>,\n",
       "                         {'a': 9.729458618407092e-06,\n",
       "                          'book': 0.9999876443477214,\n",
       "                          'the': 2.6261936603029755e-06}),\n",
       "             'Haus': defaultdict(<function IBM1._initialize_lexicon_probabilities.<locals>.<lambda>.<locals>.<lambda>>,\n",
       "                         {'house': 0.9684579278295524,\n",
       "                          'the': 0.031542072170447605}),\n",
       "             'das': defaultdict(<function IBM1._initialize_lexicon_probabilities.<locals>.<lambda>.<locals>.<lambda>>,\n",
       "                         {'book': 2.6261936603029776e-06,\n",
       "                          'house': 9.729458618407095e-06,\n",
       "                          'the': 0.9999876443477212}),\n",
       "             'ein': defaultdict(<function IBM1._initialize_lexicon_probabilities.<locals>.<lambda>.<locals>.<lambda>>,\n",
       "                         {'a': 0.9684579278295524,\n",
       "                          'book': 0.031542072170447605})})"
      ]
     },
     "execution_count": 12,
     "metadata": {},
     "output_type": "execute_result"
    }
   ],
   "source": [
    "# Run EM on toy example\n",
    "s_t_pairs, s_vocabulary, t_vocabulary = datasets.example_data()\n",
    "s_t_pairs\n",
    "lprobs = ibm1.EM(s_t_pairs, s_vocabulary, t_vocabulary, \n",
    "                 print_likelihood)\n",
    "lprobs"
   ]
  },
  {
   "cell_type": "code",
   "execution_count": 13,
   "metadata": {},
   "outputs": [
    {
     "data": {
      "text/plain": [
       "[(['<NULL>', 'das', 'Haus'], ['the', 'house']),\n",
       " (['<NULL>', 'das', 'Buch'], ['the', 'book']),\n",
       " (['<NULL>', 'ein', 'Buch'], ['a', 'book']),\n",
       " (['<NULL>', 'ein', 'Haus'], ['a', 'small', 'house']),\n",
       " (['<NULL>', 'mein', 'Buch'], ['my', 'small', 'book'])]"
      ]
     },
     "execution_count": 13,
     "metadata": {},
     "output_type": "execute_result"
    },
    {
     "name": "stdout",
     "output_type": "stream",
     "text": [
      "iteration  log_likelihood  likelihood\n",
      "1 -8.318 0.000\n",
      "2 -3.214 0.040\n",
      "3 -2.152 0.116\n",
      "4 -1.373 0.253\n",
      "5 -0.865 0.421\n",
      "6 -0.544 0.580\n",
      "7 -0.338 0.713\n",
      "8 -0.202 0.817\n",
      "9 -0.109 0.896\n",
      "10 -0.045 0.956\n",
      "11 -0.000 1.000\n",
      "12 0.031 1.032\n",
      "13 0.054 1.055\n",
      "14 0.070 1.072\n",
      "15 0.081 1.085\n",
      "16 0.090 1.094\n",
      "17 0.096 1.101\n",
      "18 0.101 1.106\n",
      "19 0.104 1.110\n",
      "20 0.107 1.113\n"
     ]
    },
    {
     "data": {
      "text/plain": [
       "defaultdict(<function IBM1._initialize_lexicon_probabilities.<locals>.<lambda>>,\n",
       "            {'<NULL>': defaultdict(<function IBM1._initialize_lexicon_probabilities.<locals>.<lambda>.<locals>.<lambda>>,\n",
       "                         {'a': 0.0049385156306393915,\n",
       "                          'book': 0.23131096714592353,\n",
       "                          'house': 0.0047664944727924,\n",
       "                          'my': 7.676407527728933e-07,\n",
       "                          'small': 0.756279473085454,\n",
       "                          'the': 0.002703782024438147}),\n",
       "             'Buch': defaultdict(<function IBM1._initialize_lexicon_probabilities.<locals>.<lambda>.<locals>.<lambda>>,\n",
       "                         {'a': 2.2861551201309313e-08,\n",
       "                          'book': 0.9999961375254085,\n",
       "                          'my': 3.3186398260819336e-06,\n",
       "                          'small': 5.087463490999096e-07,\n",
       "                          'the': 1.2226865092224424e-08}),\n",
       "             'Haus': defaultdict(<function IBM1._initialize_lexicon_probabilities.<locals>.<lambda>.<locals>.<lambda>>,\n",
       "                         {'a': 8.766652745862759e-07,\n",
       "                          'house': 0.9992092174629266,\n",
       "                          'small': 0.0007894140942328188,\n",
       "                          'the': 4.917775659561484e-07}),\n",
       "             'das': defaultdict(<function IBM1._initialize_lexicon_probabilities.<locals>.<lambda>.<locals>.<lambda>>,\n",
       "                         {'book': 2.5922120144793404e-08,\n",
       "                          'house': 1.5359743961192934e-06,\n",
       "                          'the': 0.9999984381034837}),\n",
       "             'ein': defaultdict(<function IBM1._initialize_lexicon_probabilities.<locals>.<lambda>.<locals>.<lambda>>,\n",
       "                         {'a': 0.9992370410789507,\n",
       "                          'book': 1.602017784274745e-08,\n",
       "                          'house': 1.0049069143525652e-06,\n",
       "                          'small': 0.0007619379939570765}),\n",
       "             'mein': defaultdict(<function IBM1._initialize_lexicon_probabilities.<locals>.<lambda>.<locals>.<lambda>>,\n",
       "                         {'book': 5.88457945722153e-05,\n",
       "                          'my': 0.8670263167073299,\n",
       "                          'small': 0.13291483749809788})})"
      ]
     },
     "execution_count": 13,
     "metadata": {},
     "output_type": "execute_result"
    },
    {
     "data": {
      "text/plain": [
       "(['<NULL>', 'Buch', 'grose', 'das', 'Haus'], ['the', 'small', 'house', 'book'])"
      ]
     },
     "execution_count": 13,
     "metadata": {},
     "output_type": "execute_result"
    },
    {
     "data": {
      "text/plain": [
       "{(1, 3), (3, 4), (4, 1)}"
      ]
     },
     "execution_count": 13,
     "metadata": {},
     "output_type": "execute_result"
    }
   ],
   "source": [
    "# Run EM on toy example with NULL words\n",
    "s_t_pairs, s_vocabulary, t_vocabulary = datasets.example_data_null_words()\n",
    "s_t_pairs\n",
    "lprobs = ibm1.EM(s_t_pairs, s_vocabulary, t_vocabulary, print_likelihood)\n",
    "lprobs\n",
    "\n",
    "# QUESTION: how can likelihood be bigger than 1?\n",
    "\n",
    "# example alignment\n",
    "# alignment positions start at 1, NULL word is ignored \n",
    "sentence_pair = (\n",
    "    ['<NULL>', 'Buch', 'grose', 'das', 'Haus'], \n",
    "    ['the', 'small', 'house', 'book']\n",
    ")\n",
    "sentence_pair\n",
    "align(lprobs, sentence_pair) "
   ]
  },
  {
   "cell_type": "code",
   "execution_count": null,
   "metadata": {},
   "outputs": [],
   "source": [
    "# Run EM on training data set\n",
    "s_t_pairs, s_vocabulary, t_vocabulary = datasets.training_data()\n",
    "lprobs = ibm1.EM(s_t_pairs, s_vocabulary, t_vocabulary, print_likelihood)"
   ]
  },
  {
   "cell_type": "code",
   "execution_count": null,
   "metadata": {},
   "outputs": [],
   "source": [
    "predictions[0:3]\n",
    "# predictions\n",
    "[\n",
    "    {(5,7), (1,2), ...},\n",
    "    {},\n",
    "    ...\n",
    "]"
   ]
  },
  {
   "cell_type": "code",
   "execution_count": null,
   "metadata": {},
   "outputs": [],
   "source": [
    "#gold_sets[0:3]\n",
    "(17, 15),\n",
    "(17, 18),\n",
    "(x,y) means x generates y"
   ]
  },
  {
   "cell_type": "code",
   "execution_count": null,
   "metadata": {},
   "outputs": [],
   "source": [
    "path = 'validation/dev.wa.nonullalign'\n",
    "\n",
    "gold_sets = aer.read_naacl_alignments(path)\n",
    "gold_sets[5][1]\n"
   ]
  },
  {
   "cell_type": "code",
   "execution_count": null,
   "metadata": {
    "collapsed": true
   },
   "outputs": [],
   "source": []
  },
  {
   "cell_type": "code",
   "execution_count": null,
   "metadata": {
    "collapsed": true
   },
   "outputs": [],
   "source": []
  }
 ],
 "metadata": {
  "kernelspec": {
   "display_name": "Python 3",
   "language": "python",
   "name": "python3"
  },
  "language_info": {
   "codemirror_mode": {
    "name": "ipython",
    "version": 3
   },
   "file_extension": ".py",
   "mimetype": "text/x-python",
   "name": "python",
   "nbconvert_exporter": "python",
   "pygments_lexer": "ipython3",
   "version": "3.6.1"
  }
 },
 "nbformat": 4,
 "nbformat_minor": 2
}
