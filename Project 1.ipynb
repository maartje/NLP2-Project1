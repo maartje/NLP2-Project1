{
 "cells": [
  {
   "cell_type": "code",
   "execution_count": 11,
   "metadata": {
    "collapsed": true
   },
   "outputs": [],
   "source": [
    "import math\n",
    "import datasets\n",
    "import IBM1 as ibm1\n",
    "\n",
    "# pretty print variabeles on line\n",
    "from IPython.core.interactiveshell import InteractiveShell\n",
    "InteractiveShell.ast_node_interactivity = \"all\""
   ]
  },
  {
   "cell_type": "code",
   "execution_count": null,
   "metadata": {
    "collapsed": true
   },
   "outputs": [],
   "source": [
    "# Some helper functions to print useful information after each \n",
    "# EM iteration\n",
    "\n",
    "def print_likelihood(i, _, log_likelihood):\n",
    "    likelihood = math.exp(log_likelihood)\n",
    "    if i == 1:\n",
    "        print('iteration  log_likelihood  likelihood')\n",
    "    print(f'{i} {log_likelihood:.3f} {likelihood:.3f}')\n",
    "\n",
    "def print_lexicon_probs(_, lprobs, _):\n",
    "    for s in lprobs.keys():\n",
    "        for t in lprobs[s].keys():\n",
    "            if lprobs[s][t] > 0:\n",
    "                print (s, t, lprobs[s][t])"
   ]
  },
  {
   "cell_type": "code",
   "execution_count": 13,
   "metadata": {},
   "outputs": [
    {
     "data": {
      "text/plain": [
       "[(['das', 'Haus'], ['the', 'house']),\n",
       " (['das', 'Buch'], ['the', 'book']),\n",
       " (['ein', 'Buch'], ['a', 'book'])]"
      ]
     },
     "execution_count": 13,
     "metadata": {},
     "output_type": "execute_result"
    },
    {
     "name": "stdout",
     "output_type": "stream",
     "text": [
      "iteration  log_likelihood  likelihood\n",
      "1 -4.159 0.016\n",
      "2 -1.151 0.316\n",
      "3 -0.842 0.431\n",
      "4 -0.586 0.557\n",
      "5 -0.390 0.677\n",
      "6 -0.252 0.777\n",
      "7 -0.159 0.853\n",
      "8 -0.100 0.905\n",
      "9 -0.062 0.940\n",
      "10 -0.039 0.961\n",
      "11 -0.025 0.975\n",
      "12 -0.017 0.983\n",
      "13 -0.012 0.989\n",
      "14 -0.008 0.992\n",
      "15 -0.006 0.994\n",
      "16 -0.005 0.995\n",
      "17 -0.004 0.996\n",
      "18 -0.003 0.997\n",
      "19 -0.003 0.997\n",
      "20 -0.002 0.998\n"
     ]
    },
    {
     "data": {
      "text/plain": [
       "defaultdict(<function IBM1._initialize_lexicon_probabilities.<locals>.<lambda>>,\n",
       "            {'Buch': defaultdict(int,\n",
       "                         {'a': 9.729458618407092e-06,\n",
       "                          'book': 0.9999876443477214,\n",
       "                          'house': 0.0,\n",
       "                          'the': 2.6261936603029755e-06}),\n",
       "             'Haus': defaultdict(int,\n",
       "                         {'a': 0.0,\n",
       "                          'book': 0.0,\n",
       "                          'house': 0.9684579278295524,\n",
       "                          'the': 0.031542072170447605}),\n",
       "             'das': defaultdict(int,\n",
       "                         {'a': 0.0,\n",
       "                          'book': 2.6261936603029776e-06,\n",
       "                          'house': 9.729458618407095e-06,\n",
       "                          'the': 0.9999876443477212}),\n",
       "             'ein': defaultdict(int,\n",
       "                         {'a': 0.9684579278295524,\n",
       "                          'book': 0.031542072170447605,\n",
       "                          'house': 0.0,\n",
       "                          'the': 0.0})})"
      ]
     },
     "execution_count": 13,
     "metadata": {},
     "output_type": "execute_result"
    }
   ],
   "source": [
    "# Run EM on toy example\n",
    "s_t_pairs, s_vocabulary, t_vocabulary = datasets.example_data()\n",
    "s_t_pairs\n",
    "lprobs = ibm1.EM(s_t_pairs, s_vocabulary, t_vocabulary, print_likelihood)\n",
    "lprobs"
   ]
  },
  {
   "cell_type": "code",
   "execution_count": 12,
   "metadata": {},
   "outputs": [
    {
     "data": {
      "text/plain": [
       "[(['<NULL>', 'das', 'Haus'], ['the', 'house']),\n",
       " (['<NULL>', 'das', 'kleine', 'Buch'], ['the', 'book']),\n",
       " (['<NULL>', 'ein', 'Buch'], ['a', 'book']),\n",
       " (['<NULL>', 'ein', 'Haus'], ['a', 'small', 'house'])]"
      ]
     },
     "execution_count": 12,
     "metadata": {},
     "output_type": "execute_result"
    },
    {
     "name": "stdout",
     "output_type": "stream",
     "text": [
      "iteration  log_likelihood  likelihood\n",
      "1 -4.022 0.018\n",
      "2 -0.679 0.507\n",
      "3 -0.064 0.938\n",
      "4 0.368 1.445\n",
      "5 0.643 1.901\n",
      "6 0.804 2.235\n",
      "7 0.897 2.452\n",
      "8 0.949 2.584\n",
      "9 0.979 2.662\n",
      "10 0.996 2.709\n",
      "11 1.007 2.737\n",
      "12 1.013 2.754\n",
      "13 1.017 2.765\n",
      "14 1.020 2.773\n",
      "15 1.022 2.778\n",
      "16 1.023 2.781\n",
      "17 1.024 2.784\n",
      "18 1.025 2.786\n",
      "19 1.025 2.788\n",
      "20 1.026 2.789\n"
     ]
    },
    {
     "data": {
      "text/plain": [
       "defaultdict(<function IBM1._initialize_lexicon_probabilities.<locals>.<lambda>>,\n",
       "            {'<NULL>': defaultdict(int,\n",
       "                         {'a': 0.40297069736408325,\n",
       "                          'book': 0.0362274366767834,\n",
       "                          'house': 0.40297069736408325,\n",
       "                          'small': 0.12160373191826655,\n",
       "                          'the': 0.0362274366767834}),\n",
       "             'Buch': defaultdict(int,\n",
       "                         {'a': 8.668374184480112e-06,\n",
       "                          'book': 0.9999913173858771,\n",
       "                          'house': 0.0,\n",
       "                          'small': 0.0,\n",
       "                          'the': 1.4239938457654701e-08}),\n",
       "             'Haus': defaultdict(int,\n",
       "                         {'a': 8.90343310153906e-07,\n",
       "                          'book': 0.0,\n",
       "                          'house': 0.768183624465758,\n",
       "                          'small': 0.23181337041273017,\n",
       "                          'the': 2.114778201611731e-06}),\n",
       "             'das': defaultdict(int,\n",
       "                         {'a': 0.0,\n",
       "                          'book': 1.4239938457654708e-08,\n",
       "                          'house': 8.668374184480117e-06,\n",
       "                          'small': 0.0,\n",
       "                          'the': 0.9999913173858772}),\n",
       "             'ein': defaultdict(int,\n",
       "                         {'a': 0.7681836244657582,\n",
       "                          'book': 2.114778201611734e-06,\n",
       "                          'house': 8.903433101539077e-07,\n",
       "                          'small': 0.23181337041273023,\n",
       "                          'the': 0.0}),\n",
       "             'kleine': defaultdict(int,\n",
       "                         {'a': 0.0,\n",
       "                          'book': 0.5,\n",
       "                          'house': 0.0,\n",
       "                          'small': 0.0,\n",
       "                          'the': 0.4999999999999999})})"
      ]
     },
     "execution_count": 12,
     "metadata": {},
     "output_type": "execute_result"
    }
   ],
   "source": [
    "# Run EM on toy example with NULL words\n",
    "s_t_pairs, s_vocabulary, t_vocabulary = datasets.example_data_null_words()\n",
    "s_t_pairs\n",
    "lprobs = ibm1.EM(s_t_pairs, s_vocabulary, t_vocabulary, print_likelihood)\n",
    "lprobs\n",
    "\n",
    "# QUESTION: how can likelihood be bigger than 1?\n",
    "# QUESTION: these NULL behavior is hard to interpret"
   ]
  },
  {
   "cell_type": "code",
   "execution_count": null,
   "metadata": {},
   "outputs": [],
   "source": [
    "# Run EM on training data set\n",
    "s_t_pairs, s_vocabulary, t_vocabulary = datasets.training_data(\n",
    "    \"training/hansards.36.2.f\", \"training/hansards.36.2.e\")\n",
    "#lprobs = ibm1.EM(s_t_pairs, s_vocabulary, t_vocabulary)"
   ]
  },
  {
   "cell_type": "code",
   "execution_count": null,
   "metadata": {
    "collapsed": true
   },
   "outputs": [],
   "source": []
  }
 ],
 "metadata": {
  "kernelspec": {
   "display_name": "Python 3",
   "language": "python",
   "name": "python3"
  },
  "language_info": {
   "codemirror_mode": {
    "name": "ipython",
    "version": 3
   },
   "file_extension": ".py",
   "mimetype": "text/x-python",
   "name": "python",
   "nbconvert_exporter": "python",
   "pygments_lexer": "ipython3",
   "version": "3.6.1"
  }
 },
 "nbformat": 4,
 "nbformat_minor": 2
}
