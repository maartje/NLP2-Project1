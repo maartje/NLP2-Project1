{
 "cells": [
  {
   "cell_type": "code",
   "execution_count": 87,
   "metadata": {
    "collapsed": true
   },
   "outputs": [],
   "source": [
    "import collections"
   ]
  },
  {
   "cell_type": "code",
   "execution_count": 88,
   "metadata": {},
   "outputs": [],
   "source": [
    "def read_sentences(fpath):\n",
    "    with open(fpath, 'r') as lines:\n",
    "        for line in lines:\n",
    "            yield line.split()\n",
    "\n",
    "english_sentences = list(read_sentences(\"training/hansards.36.2.e\"))\n",
    "french_sentences = list(read_sentences(\"training/hansards.36.2.f\"))"
   ]
  },
  {
   "cell_type": "code",
   "execution_count": 106,
   "metadata": {
    "collapsed": true
   },
   "outputs": [],
   "source": [
    "german = [['das', 'Haus'], ['das', 'Buch'], ['ein', 'Buch']]\n",
    "english = [['the', 'house'], ['the', 'book'], ['a', 'book']]"
   ]
  },
  {
   "cell_type": "code",
   "execution_count": 90,
   "metadata": {
    "collapsed": true
   },
   "outputs": [],
   "source": [
    "def build_vocabulary(sentences):\n",
    "    return list({word for sentence in sentences for word in sentence})"
   ]
  },
  {
   "cell_type": "code",
   "execution_count": 91,
   "metadata": {},
   "outputs": [],
   "source": [
    "german_vocabulary = build_vocabulary(german)\n",
    "english_vocabulary = build_vocabulary(english)"
   ]
  },
  {
   "cell_type": "code",
   "execution_count": 113,
   "metadata": {},
   "outputs": [],
   "source": [
    "# {Hause: { book:0.25, ...}, ...}\n",
    "# read: the probability of 'book' given 'Haus' is 0.25\n",
    "def initialize_lexicon_probabilities(source_vocabulary, target_vocabulary):\n",
    "    p_init = 1./len(target_vocabulary)\n",
    "    lexicon_probabilities = collections.defaultdict(lambda: collections.defaultdict(int))\n",
    "    for s in source_vocabulary:\n",
    "        for t in target_vocabulary:\n",
    "            lexicon_probabilities[s][t] = p_init\n",
    "    return lexicon_probabilities\n"
   ]
  },
  {
   "cell_type": "code",
   "execution_count": 142,
   "metadata": {
    "collapsed": true
   },
   "outputs": [],
   "source": [
    "def print_lexicon_probs(lprobs):\n",
    "    for s in lprobs.keys():\n",
    "        for t in lprobs[s].keys():\n",
    "            if lprobs[s][t] > 0:\n",
    "                print (s, t, lprobs[s][t])"
   ]
  },
  {
   "cell_type": "code",
   "execution_count": 150,
   "metadata": {},
   "outputs": [
    {
     "name": "stdout",
     "output_type": "stream",
     "text": [
      "ein book 0.5\n",
      "ein a 0.5\n",
      "das book 0.25\n",
      "das the 0.5\n",
      "das house 0.25\n",
      "Haus the 0.5\n",
      "Haus house 0.5\n",
      "Buch book 0.5\n",
      "Buch the 0.25\n",
      "Buch a 0.25\n",
      "\n",
      "ein book 0.4285714285714286\n",
      "ein a 0.5714285714285715\n",
      "das book 0.18181818181818182\n",
      "das the 0.6363636363636364\n",
      "das house 0.18181818181818182\n",
      "Haus the 0.4285714285714286\n",
      "Haus house 0.5714285714285715\n",
      "Buch book 0.6363636363636364\n",
      "Buch the 0.18181818181818182\n",
      "Buch a 0.18181818181818182\n",
      "\n",
      "ein book 0.34661354581673304\n",
      "ein a 0.6533864541832669\n",
      "das book 0.1208425438930813\n",
      "das the 0.7478974515333995\n",
      "das house 0.13126000457351933\n",
      "Haus the 0.34661354581673304\n",
      "Haus house 0.6533864541832669\n",
      "Buch book 0.7478974515333995\n",
      "Buch the 0.1208425438930813\n",
      "Buch a 0.13126000457351933\n",
      "\n",
      "ein book 0.2755211789521138\n",
      "ein a 0.7244788210478862\n",
      "das book 0.07516523179034365\n",
      "das the 0.8344395715124338\n",
      "das house 0.09039519669722251\n",
      "Haus the 0.2755211789521138\n",
      "Haus house 0.7244788210478862\n",
      "Buch book 0.8344395715124339\n",
      "Buch the 0.07516523179034365\n",
      "Buch a 0.09039519669722253\n",
      "\n",
      "ein book 0.21826012818351037\n",
      "ein a 0.7817398718164896\n",
      "das book 0.04436291470681886\n",
      "das the 0.8960831177730378\n",
      "das house 0.05955396752014332\n",
      "Haus the 0.21826012818351043\n",
      "Haus house 0.7817398718164896\n",
      "Buch book 0.8960831177730377\n",
      "Buch the 0.044362914706818864\n",
      "Buch a 0.059553967520143324\n",
      "\n",
      "ein book 0.17408992233594558\n",
      "ein a 0.8259100776640544\n",
      "das book 0.025159527604786777\n",
      "das the 0.9370850546370292\n",
      "das house 0.03775541775818424\n",
      "Haus the 0.1740899223359456\n",
      "Haus house 0.8259100776640544\n",
      "Buch book 0.9370850546370291\n",
      "Buch the 0.025159527604786774\n",
      "Buch a 0.037755417758184244\n",
      "\n",
      "ein book 0.14077092021669385\n",
      "ein a 0.8592290797833062\n",
      "das book 0.013855912092606825\n",
      "das the 0.9629780468299598\n",
      "das house 0.023166041077433423\n",
      "Haus the 0.14077092021669385\n",
      "Haus house 0.8592290797833062\n",
      "Buch book 0.9629780468299598\n",
      "Buch the 0.01385591209260682\n",
      "Buch a 0.023166041077433423\n",
      "\n",
      "ein book 0.11580912945722344\n",
      "ein a 0.8841908705427766\n",
      "das book 0.0074705857922320274\n",
      "das the 0.9787023808243721\n",
      "das house 0.013827033383395878\n",
      "Haus the 0.11580912945722344\n",
      "Haus house 0.8841908705427766\n",
      "Buch book 0.9787023808243721\n",
      "Buch the 0.007470585792232024\n",
      "Buch a 0.013827033383395878\n",
      "\n",
      "ein book 0.09703579479955045\n",
      "ein a 0.9029642052004496\n",
      "das book 0.003966996483966088\n",
      "das the 0.9879698622753386\n",
      "das house 0.008063141240695343\n",
      "Haus the 0.09703579479955045\n",
      "Haus house 0.9029642052004496\n",
      "Buch book 0.9879698622753386\n",
      "Buch the 0.0039669964839660855\n",
      "Buch a 0.008063141240695343\n",
      "\n",
      "ein book 0.08276408100718743\n",
      "ein a 0.9172359189928124\n",
      "das book 0.0020835715312351013\n",
      "das the 0.9933053397165424\n",
      "das house 0.0046110887522225865\n",
      "Haus the 0.08276408100718743\n",
      "Haus house 0.9172359189928124\n",
      "Buch book 0.9933053397165423\n",
      "Buch the 0.0020835715312350995\n",
      "Buch a 0.004611088752222586\n",
      "\n",
      "ein book 0.07175344394156298\n",
      "ein a 0.928246556058437\n",
      "das book 0.0010856469363694676\n",
      "das the 0.9963200684152884\n",
      "das house 0.002594284648342067\n",
      "Haus the 0.07175344394156298\n",
      "Haus house 0.928246556058437\n",
      "Buch book 0.9963200684152885\n",
      "Buch the 0.0010856469363694668\n",
      "Buch a 0.0025942846483420668\n",
      "\n",
      "ein book 0.06311600593235389\n",
      "ein a 0.936883994067646\n",
      "das book 0.0005623408368321096\n",
      "das the 0.9979977832716698\n",
      "das house 0.0014398758914981288\n",
      "Haus the 0.06311600593235389\n",
      "Haus house 0.936883994067646\n",
      "Buch book 0.9979977832716698\n",
      "Buch the 0.0005623408368321092\n",
      "Buch a 0.0014398758914981283\n",
      "\n",
      "ein book 0.05622298399761185\n",
      "ein a 0.9437770160023881\n",
      "das book 0.00028997742421277517\n",
      "das the 0.9989198697821495\n",
      "das house 0.000790152793637741\n",
      "Haus the 0.05622298399761185\n",
      "Haus house 0.9437770160023881\n",
      "Buch book 0.9989198697821494\n",
      "Buch the 0.00028997742421277495\n",
      "Buch a 0.0007901527936377407\n",
      "\n",
      "ein book 0.05062929787343242\n",
      "ein a 0.9493707021265675\n",
      "das book 0.0001490110456949714\n",
      "das the 0.9994214631956893\n",
      "das house 0.0004295257586158875\n",
      "Haus the 0.05062929787343242\n",
      "Haus house 0.9493707021265675\n",
      "Buch book 0.9994214631956893\n",
      "Buch the 0.00014901104569497127\n",
      "Buch a 0.0004295257586158874\n",
      "\n",
      "ein book 0.04601805009203235\n",
      "ein a 0.9539819499079677\n",
      "das book 7.636118971985205e-05\n",
      "das the 0.9996919929266808\n",
      "das house 0.0002316458835994153\n",
      "Haus the 0.04601805009203235\n",
      "Haus house 0.9539819499079677\n",
      "Buch book 0.9996919929266807\n",
      "Buch the 7.636118971985197e-05\n",
      "Buch a 0.00023164588359941523\n",
      "\n",
      "ein book 0.04216137092129016\n",
      "ein a 0.9578386290787099\n",
      "das book 3.904379266893028e-05\n",
      "das the 0.9998368602354943\n",
      "das house 0.00012409597183682286\n",
      "Haus the 0.04216137092129015\n",
      "Haus house 0.9578386290787099\n",
      "Buch book 0.9998368602354942\n",
      "Buch the 3.9043792668930235e-05\n",
      "Buch a 0.0001240959718368228\n",
      "\n",
      "ein book 0.03889337026370539\n",
      "ein a 0.9611066297362946\n",
      "das book 1.9926155001251467e-05\n",
      "das the 0.9999139700059068\n",
      "das house 6.610383909194634e-05\n",
      "Haus the 0.038893370263705374\n",
      "Haus house 0.9611066297362946\n",
      "Buch book 0.999913970005907\n",
      "Buch the 1.9926155001251443e-05\n",
      "Buch a 6.610383909194632e-05\n",
      "\n",
      "ein book 0.03609160537751424\n",
      "ein a 0.9639083946224857\n",
      "das book 1.0153461869576265e-05\n",
      "das the 0.9999548046766328\n",
      "das house 3.5041861497632454e-05\n",
      "Haus the 0.03609160537751424\n",
      "Haus house 0.9639083946224857\n",
      "Buch book 0.9999548046766328\n",
      "Buch the 1.0153461869576255e-05\n",
      "Buch a 3.504186149763244e-05\n",
      "\n",
      "ein book 0.03366439092703859\n",
      "ein a 0.9663356090729615\n",
      "das book 5.166810157208556e-06\n",
      "das the 0.9999763350200317\n",
      "das house 1.849816981103972e-05\n",
      "Haus the 0.03366439092703859\n",
      "Haus house 0.9663356090729615\n",
      "Buch book 0.9999763350200317\n",
      "Buch the 5.166810157208551e-06\n",
      "Buch a 1.8498169811039712e-05\n",
      "\n",
      "ein book 0.031542072170447605\n",
      "ein a 0.9684579278295524\n",
      "das book 2.6261936603029776e-06\n",
      "das the 0.9999876443477212\n",
      "das house 9.729458618407095e-06\n",
      "Haus the 0.031542072170447605\n",
      "Haus house 0.9684579278295524\n",
      "Buch book 0.9999876443477214\n",
      "Buch the 2.6261936603029755e-06\n",
      "Buch a 9.729458618407092e-06\n",
      "\n"
     ]
    }
   ],
   "source": [
    "german_english_pairs = list(zip(german, english))\n",
    "lexicon_probabilities = initialize_lexicon_probabilities(german_vocabulary, english_vocabulary)\n",
    "\n",
    "source_target_pairs = german_english_pairs\n",
    "lprobs = lexicon_probabilities\n",
    "i =0\n",
    "while i < 20:\n",
    "    # initialize\n",
    "    counts_t_given_s = collections.defaultdict(lambda: collections.defaultdict(int))\n",
    "    total_s = collections.defaultdict(int)\n",
    "    for (s_sentence, t_sentence) in source_target_pairs:\n",
    "        for t_word in t_sentence:\n",
    "            # normalization factor\n",
    "            s_total_t = sum([lprobs[s_word][t_word] for s_word in s_sentence])\n",
    "            for s_word in s_sentence:\n",
    "                update = lprobs[s_word][t_word]/s_total_t\n",
    "                counts_t_given_s[s_word][t_word] += update\n",
    "                total_s[s_word] += update\n",
    "    for s in lprobs.keys():\n",
    "        for t in lprobs[s].keys():\n",
    "            lprobs[s][t] = counts_t_given_s[s][t]/total_s[s]\n",
    "    print_lexicon_probs(lprobs)\n",
    "    print ()\n",
    "    i += 1\n",
    " "
   ]
  },
  {
   "cell_type": "code",
   "execution_count": 112,
   "metadata": {},
   "outputs": [
    {
     "data": {
      "text/plain": [
       "<zip at 0x7f59a4efa7c8>"
      ]
     },
     "execution_count": 112,
     "metadata": {},
     "output_type": "execute_result"
    }
   ],
   "source": [
    "source_target_pairs"
   ]
  },
  {
   "cell_type": "code",
   "execution_count": 100,
   "metadata": {},
   "outputs": [
    {
     "name": "stdout",
     "output_type": "stream",
     "text": [
      "ein book\n",
      "ein the\n",
      "ein a\n",
      "ein house\n",
      "das book\n",
      "das the\n",
      "das a\n",
      "das house\n",
      "Haus book\n",
      "Haus the\n",
      "Haus a\n",
      "Haus house\n",
      "Buch book\n",
      "Buch the\n",
      "Buch a\n",
      "Buch house\n"
     ]
    }
   ],
   "source": [
    "for s in lprobs.keys():\n",
    "    for t in lprobs[s].keys():\n",
    "        print (s,t)\n"
   ]
  },
  {
   "cell_type": "code",
   "execution_count": 94,
   "metadata": {},
   "outputs": [
    {
     "data": {
      "text/plain": [
       "defaultdict(<function __main__.<lambda>>,\n",
       "            {'Buch': defaultdict(int,\n",
       "                         {'a': 0.4, 'book': 0.4, 'house': 0.4, 'the': 0.4}),\n",
       "             'Haus': defaultdict(int,\n",
       "                         {'a': 0.4, 'book': 0.4, 'house': 0.4, 'the': 0.4}),\n",
       "             'das': defaultdict(int,\n",
       "                         {'a': 0.4, 'book': 0.4, 'house': 0.4, 'the': 0.4}),\n",
       "             'ein': defaultdict(int,\n",
       "                         {'a': 0.4, 'book': 0.4, 'house': 0.4, 'the': 0.4})})"
      ]
     },
     "execution_count": 94,
     "metadata": {},
     "output_type": "execute_result"
    }
   ],
   "source": [
    "lexicon_porobabilities\n"
   ]
  },
  {
   "cell_type": "code",
   "execution_count": 81,
   "metadata": {
    "collapsed": true
   },
   "outputs": [],
   "source": [
    "cnt = collections.Counter()\n",
    "cnt[('mj', 'jm')] += 1\n",
    "cnt[('mj', 'jm')] +=2"
   ]
  },
  {
   "cell_type": "code",
   "execution_count": 84,
   "metadata": {
    "collapsed": true
   },
   "outputs": [],
   "source": [
    "counts_t_given_s = collections.defaultdict(lambda: collections.defaultdict(int))\n",
    "counts_t_given_s['m']['j'] +=2\n",
    "counts_t_given_s['m']['j'] +=3"
   ]
  },
  {
   "cell_type": "code",
   "execution_count": 85,
   "metadata": {},
   "outputs": [
    {
     "data": {
      "text/plain": [
       "5"
      ]
     },
     "execution_count": 85,
     "metadata": {},
     "output_type": "execute_result"
    }
   ],
   "source": [
    "counts_t_given_s['m']['j'] "
   ]
  },
  {
   "cell_type": "code",
   "execution_count": null,
   "metadata": {
    "collapsed": true
   },
   "outputs": [],
   "source": []
  }
 ],
 "metadata": {
  "kernelspec": {
   "display_name": "Python 3",
   "language": "python",
   "name": "python3"
  },
  "language_info": {
   "codemirror_mode": {
    "name": "ipython",
    "version": 3
   },
   "file_extension": ".py",
   "mimetype": "text/x-python",
   "name": "python",
   "nbconvert_exporter": "python",
   "pygments_lexer": "ipython3",
   "version": "3.6.1"
  }
 },
 "nbformat": 4,
 "nbformat_minor": 2
}
