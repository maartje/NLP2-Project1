{
 "cells": [
  {
   "cell_type": "code",
   "execution_count": null,
   "metadata": {
    "collapsed": true
   },
   "outputs": [],
   "source": [
    "import math\n",
    "import datasets\n",
    "import IBM1 as ibm1\n",
    "#import aer\n",
    "\n",
    "# pretty print variabeles on line\n",
    "from IPython.core.interactiveshell import InteractiveShell\n",
    "InteractiveShell.ast_node_interactivity = \"all\""
   ]
  },
  {
   "cell_type": "code",
   "execution_count": null,
   "metadata": {
    "collapsed": true
   },
   "outputs": [],
   "source": [
    "# Helper functions to output useful information after each \n",
    "# EM iteration\n",
    "\n",
    "def print_likelihood(i, lprobs, log_likelihood, aer):\n",
    "    likelihood = math.exp(log_likelihood)\n",
    "    if i == 1:\n",
    "        print('iteration  log_likelihood  likelihood  AER')\n",
    "    print(f'{i} {log_likelihood:.3f} {likelihood:.3f} {aer:.3f}')\n",
    "\n",
    "def print_lexicon_probs(i, lprobs, log_likelihood, aer):\n",
    "    for s in lprobs.keys():\n",
    "        for t in lprobs[s].keys():\n",
    "            if lprobs[s][t] > 0:\n",
    "                print (s, t, lprobs[s][t])\n",
    "    print()"
   ]
  },
  {
   "cell_type": "code",
   "execution_count": null,
   "metadata": {},
   "outputs": [],
   "source": [
    "# Run EM on toy example\n",
    "s_t_pairs, s_vocabulary, t_vocabulary = datasets.example_data()\n",
    "s_t_pairs\n",
    "(lprobs, _, _) = ibm1.EM(s_t_pairs, s_vocabulary, t_vocabulary, \n",
    "                 fn_after_iter = print_likelihood)\n",
    "\n",
    "print_lexicon_probs(None, lprobs, None, None)"
   ]
  },
  {
   "cell_type": "code",
   "execution_count": null,
   "metadata": {},
   "outputs": [],
   "source": [
    "# Run EM on toy example with NULL words\n",
    "val_sentence_pairs = [(\n",
    "    ['<NULL>', 'Buch', 'klein', 'das', 'Haus'], \n",
    "    ['the', 'small', 'house', 'book']\n",
    ")]\n",
    "ref_alignments = [[\n",
    "    {(1, 3), (2, 2), (3, 4), (4, 1)}, \n",
    "    {(1, 3), (2, 2), (3, 4), (4, 1)}\n",
    "]]\n",
    "s_t_pairs, s_vocabulary, t_vocabulary = datasets.example_data_null_words()\n",
    "s_t_pairs\n",
    "(lprobs, _, _) = ibm1.EM(s_t_pairs, s_vocabulary, t_vocabulary, \n",
    "                 val_sentence_pairs, ref_alignments, print_likelihood)\n",
    "print_lexicon_probs(None, lprobs, None, None)\n",
    "\n",
    "# QUESTION: how can likelihood be bigger than 1?\n",
    "\n",
    "# example alignment\n",
    "# alignment positions start at 1, NULL word is ignored \n",
    "#sentence_pair\n",
    "#alignment = ibm1.align(lprobs, sentence_pair)\n",
    "#alignment\n",
    "#{(1, 3), (3, 4), (4, 1)}\n"
   ]
  },
  {
   "cell_type": "code",
   "execution_count": null,
   "metadata": {},
   "outputs": [],
   "source": [
    "# Run EM on training data set (no AER)\n",
    "\n",
    "s_t_pairs, s_vocabulary, t_vocabulary = datasets.training_data()\n",
    "(lprobs, log_lhoods, _) = ibm1.EM(s_t_pairs, s_vocabulary, \n",
    "        t_vocabulary, fn_after_iter = print_likelihood)"
   ]
  },
  {
   "cell_type": "code",
   "execution_count": null,
   "metadata": {
    "collapsed": true
   },
   "outputs": [],
   "source": [
    "# Run EM on training data set\n",
    "import aer\n",
    "\n",
    "val_naacl_path = 'validation/dev.wa.nonullalign'\n",
    "val_sentence_pairs, _, _ = datasets.validation_data()\n",
    "reference_alignments = aer.read_naacl_alignments(val_naacl_path)    \n",
    "\n",
    "s_t_pairs, s_vocabulary, t_vocabulary = datasets.training_data()\n",
    "(lprobs, log_lhoods, AERs) = ibm1.EM(s_t_pairs, s_vocabulary, t_vocabulary, val_sentence_pairs,\n",
    "                 reference_alignments, print_likelihood)"
   ]
  }
 ],
 "metadata": {
  "kernelspec": {
   "display_name": "Python 3",
   "language": "python",
   "name": "python3"
  },
  "language_info": {
   "codemirror_mode": {
    "name": "ipython",
    "version": 3
   },
   "file_extension": ".py",
   "mimetype": "text/x-python",
   "name": "python",
   "nbconvert_exporter": "python",
   "pygments_lexer": "ipython3",
   "version": "3.6.1"
  }
 },
 "nbformat": 4,
 "nbformat_minor": 2
}
