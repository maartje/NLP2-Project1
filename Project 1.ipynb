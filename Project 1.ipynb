{
 "cells": [
  {
   "cell_type": "code",
   "execution_count": 1,
   "metadata": {
    "collapsed": true
   },
   "outputs": [],
   "source": [
    "import math\n",
    "import datasets\n",
    "import IBM1 as ibm1\n",
    "#import aer\n",
    "\n",
    "# pretty print variabeles on line\n",
    "from IPython.core.interactiveshell import InteractiveShell\n",
    "InteractiveShell.ast_node_interactivity = \"all\""
   ]
  },
  {
   "cell_type": "code",
   "execution_count": 2,
   "metadata": {
    "collapsed": true
   },
   "outputs": [],
   "source": [
    "# Helper functions to output useful information after each \n",
    "# EM iteration\n",
    "\n",
    "def print_likelihood(i, lprobs, log_likelihood, aer):\n",
    "    likelihood = math.exp(log_likelihood)\n",
    "    if i == 1:\n",
    "        print('iteration  log_likelihood  likelihood  AER')\n",
    "    print(f'{i} {log_likelihood:.3f} {likelihood:.3f} {aer:.3f}')\n",
    "\n",
    "def print_lexicon_probs(i, lprobs, log_likelihood, aer):\n",
    "    for s in lprobs.keys():\n",
    "        for t in lprobs[s].keys():\n",
    "            if lprobs[s][t] > 0:\n",
    "                print (s, t, lprobs[s][t])\n",
    "    print()"
   ]
  },
  {
   "cell_type": "code",
   "execution_count": 3,
   "metadata": {},
   "outputs": [
    {
     "data": {
      "text/plain": [
       "[(['das', 'Haus'], ['the', 'house']),\n",
       " (['das', 'Buch'], ['the', 'book']),\n",
       " (['ein', 'Buch'], ['a', 'book'])]"
      ]
     },
     "execution_count": 3,
     "metadata": {},
     "output_type": "execute_result"
    },
    {
     "name": "stdout",
     "output_type": "stream",
     "text": [
      "iteration  log_likelihood  likelihood  AER\n",
      "1 -4.159 0.016 0.000\n",
      "2 -1.151 0.316 0.000\n",
      "3 -0.842 0.431 0.000\n",
      "4 -0.586 0.557 0.000\n",
      "5 -0.390 0.677 0.000\n",
      "6 -0.252 0.777 0.000\n",
      "7 -0.159 0.853 0.000\n",
      "8 -0.100 0.905 0.000\n",
      "9 -0.062 0.940 0.000\n",
      "10 -0.039 0.961 0.000\n",
      "11 -0.025 0.975 0.000\n",
      "12 -0.017 0.983 0.000\n",
      "13 -0.012 0.989 0.000\n",
      "14 -0.008 0.992 0.000\n",
      "15 -0.006 0.994 0.000\n",
      "16 -0.005 0.995 0.000\n",
      "17 -0.004 0.996 0.000\n",
      "18 -0.003 0.997 0.000\n",
      "19 -0.003 0.997 0.000\n",
      "20 -0.002 0.998 0.000\n",
      "das the 0.9999876443477212\n",
      "das house 9.729458618407095e-06\n",
      "das book 2.6261936603029776e-06\n",
      "Haus the 0.031542072170447605\n",
      "Haus house 0.9684579278295524\n",
      "Buch the 2.6261936603029755e-06\n",
      "Buch book 0.9999876443477214\n",
      "Buch a 9.729458618407092e-06\n",
      "ein a 0.9684579278295524\n",
      "ein book 0.031542072170447605\n",
      "\n"
     ]
    }
   ],
   "source": [
    "# Run EM on toy example\n",
    "s_t_pairs, s_vocabulary, t_vocabulary = datasets.example_data()\n",
    "s_t_pairs\n",
    "(lprobs, _, _) = ibm1.EM(s_t_pairs, s_vocabulary, t_vocabulary, \n",
    "                 fn_after_iter = print_likelihood)\n",
    "\n",
    "print_lexicon_probs(None, lprobs, None, None)"
   ]
  },
  {
   "cell_type": "code",
   "execution_count": 4,
   "metadata": {},
   "outputs": [
    {
     "data": {
      "text/plain": [
       "[(['<NULL>', 'das', 'Haus'], ['the', 'house']),\n",
       " (['<NULL>', 'das', 'Buch'], ['the', 'book']),\n",
       " (['<NULL>', 'ein', 'Buch'], ['a', 'book']),\n",
       " (['<NULL>', 'ein', 'Haus'], ['a', 'small', 'house']),\n",
       " (['<NULL>', 'mein', 'Buch'], ['my', 'small', 'book'])]"
      ]
     },
     "execution_count": 4,
     "metadata": {},
     "output_type": "execute_result"
    },
    {
     "name": "stdout",
     "output_type": "stream",
     "text": [
      "iteration  log_likelihood  likelihood  AER\n",
      "1 -8.318 0.000 0.250\n",
      "2 -3.214 0.040 0.143\n",
      "3 -2.152 0.116 0.143\n",
      "4 -1.373 0.253 0.143\n",
      "5 -0.865 0.421 0.143\n",
      "6 -0.544 0.580 0.143\n",
      "7 -0.338 0.713 0.143\n",
      "8 -0.202 0.817 0.143\n",
      "9 -0.109 0.896 0.143\n",
      "10 -0.045 0.956 0.143\n",
      "11 -0.000 1.000 0.143\n",
      "12 0.031 1.032 0.143\n",
      "13 0.054 1.055 0.143\n",
      "14 0.070 1.072 0.143\n",
      "15 0.081 1.085 0.143\n",
      "16 0.090 1.094 0.143\n",
      "17 0.096 1.101 0.143\n",
      "18 0.101 1.106 0.143\n",
      "19 0.104 1.110 0.143\n",
      "20 0.107 1.113 0.143\n",
      "<NULL> the 0.002703782024438147\n",
      "<NULL> house 0.0047664944727924\n",
      "<NULL> book 0.23131096714592353\n",
      "<NULL> a 0.0049385156306393915\n",
      "<NULL> small 0.756279473085454\n",
      "<NULL> my 7.676407527728933e-07\n",
      "das the 0.9999984381034837\n",
      "das house 1.5359743961192934e-06\n",
      "das book 2.5922120144793404e-08\n",
      "Haus the 4.917775659561484e-07\n",
      "Haus house 0.9992092174629266\n",
      "Haus a 8.766652745862759e-07\n",
      "Haus small 0.0007894140942328188\n",
      "Buch the 1.2226865092224424e-08\n",
      "Buch book 0.9999961375254085\n",
      "Buch a 2.2861551201309313e-08\n",
      "Buch my 3.3186398260819336e-06\n",
      "Buch small 5.087463490999096e-07\n",
      "ein a 0.9992370410789507\n",
      "ein book 1.602017784274745e-08\n",
      "ein small 0.0007619379939570765\n",
      "ein house 1.0049069143525652e-06\n",
      "mein my 0.8670263167073299\n",
      "mein small 0.13291483749809788\n",
      "mein book 5.88457945722153e-05\n",
      "klein the 0.16666666666666666\n",
      "klein small 0.16666666666666666\n",
      "klein house 0.16666666666666666\n",
      "klein book 0.16666666666666666\n",
      "\n"
     ]
    }
   ],
   "source": [
    "# Run EM on toy example with NULL words\n",
    "val_sentence_pairs = [(\n",
    "    ['<NULL>', 'Buch', 'klein', 'das', 'Haus'], \n",
    "    ['the', 'small', 'house', 'book']\n",
    ")]\n",
    "ref_alignments = [[\n",
    "    {(1, 3), (2, 2), (3, 4), (4, 1)}, \n",
    "    {(1, 3), (2, 2), (3, 4), (4, 1)}\n",
    "]]\n",
    "s_t_pairs, s_vocabulary, t_vocabulary = datasets.example_data_null_words()\n",
    "s_t_pairs\n",
    "(lprobs, _, _) = ibm1.EM(s_t_pairs, s_vocabulary, t_vocabulary, \n",
    "                 val_sentence_pairs, ref_alignments, print_likelihood)\n",
    "print_lexicon_probs(None, lprobs, None, None)\n",
    "\n",
    "# QUESTION: how can likelihood be bigger than 1?\n",
    "\n",
    "# example alignment\n",
    "# alignment positions start at 1, NULL word is ignored \n",
    "#sentence_pair\n",
    "#alignment = ibm1.align(lprobs, sentence_pair)\n",
    "#alignment\n",
    "#{(1, 3), (3, 4), (4, 1)}\n"
   ]
  },
  {
   "cell_type": "code",
   "execution_count": null,
   "metadata": {},
   "outputs": [],
   "source": [
    "# Run EM on training data set\n",
    "import aer\n",
    "\n",
    "val_naacl_path = 'validation/dev.wa.nonullalign'\n",
    "val_sentence_pairs, _, _ = datasets.validation_data()\n",
    "reference_alignments = aer.read_naacl_alignments(val_naacl_path)    \n",
    "\n",
    "s_t_pairs, s_vocabulary, t_vocabulary = datasets.training_data()\n",
    "(lprobs, log_lhoods, AERs) = ibm1.EM(s_t_pairs, s_vocabulary, t_vocabulary, val_sentence_pairs,\n",
    "                 reference_alignments, print_likelihood)"
   ]
  },
  {
   "cell_type": "code",
   "execution_count": null,
   "metadata": {
    "collapsed": true
   },
   "outputs": [],
   "source": []
  }
 ],
 "metadata": {
  "kernelspec": {
   "display_name": "Python 3",
   "language": "python",
   "name": "python3"
  },
  "language_info": {
   "codemirror_mode": {
    "name": "ipython",
    "version": 3
   },
   "file_extension": ".py",
   "mimetype": "text/x-python",
   "name": "python",
   "nbconvert_exporter": "python",
   "pygments_lexer": "ipython3",
   "version": "3.6.1"
  }
 },
 "nbformat": 4,
 "nbformat_minor": 2
}
